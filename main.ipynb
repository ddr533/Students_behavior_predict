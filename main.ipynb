{
 "cells": [
  {
   "cell_type": "code",
   "execution_count": 1,
   "id": "c9d7d7d4",
   "metadata": {},
   "outputs": [],
   "source": [
    "import numpy as np\n",
    "import pandas as pd\n",
    "from matplotlib.pyplot import plot as plt\n",
    "import seaborn as sbs"
   ]
  },
  {
   "cell_type": "code",
   "execution_count": 2,
   "id": "bd27dcc8",
   "metadata": {},
   "outputs": [],
   "source": [
    "pd.set_option('display.max_columns', 15)                                                    #кол-во выводимых колонок в консоле\n",
    "pd.set_option('display.width', 300)                                                         #ширина окна с выводом\n",
    "sbs.set(rc={'figure.figsize':(9,6)})                                                        #размер гистограммы\n"
   ]
  },
  {
   "cell_type": "code",
   "execution_count": 3,
   "id": "f00077a9",
   "metadata": {
    "scrolled": true
   },
   "outputs": [],
   "source": [
    "events_data = pd.read_csv('C:/Users/AndreyPC/PycharmProjects/Data_Science/Project/event_data_train.csv')\n"
   ]
  },
  {
   "cell_type": "code",
   "execution_count": 4,
   "id": "8951608d",
   "metadata": {},
   "outputs": [],
   "source": [
    "submission_data = pd.read_csv('C:/Users/AndreyPC/PycharmProjects/Data_Science/Project/submissions_data_train.csv')"
   ]
  },
  {
   "cell_type": "code",
   "execution_count": 5,
   "id": "bf96fd75",
   "metadata": {},
   "outputs": [
    {
     "data": {
      "text/plain": [
       "array(['viewed', 'passed', 'discovered', 'started_attempt'], dtype=object)"
      ]
     },
     "execution_count": 5,
     "metadata": {},
     "output_type": "execute_result"
    }
   ],
   "source": [
    "events_data.action.unique()                                                                #список уникальных значений в столбце\n",
    "                                                                                           #action"
   ]
  },
  {
   "cell_type": "code",
   "execution_count": 6,
   "id": "7f495bfb",
   "metadata": {},
   "outputs": [],
   "source": [
    "events_data = events_data.assign(date = pd.to_datetime(events_data.timestamp, unit = 's'))  #перевод Unix формата времени \n",
    "                                                                                            #в обычный c добавлением колонки date"
   ]
  },
  {
   "cell_type": "code",
   "execution_count": 7,
   "id": "4c7fad8d",
   "metadata": {},
   "outputs": [],
   "source": [
    "events_data = events_data.assign(day = events_data.date.dt.date)                            #добавление колонки day "
   ]
  },
  {
   "cell_type": "code",
   "execution_count": 8,
   "id": "38d01fa1",
   "metadata": {},
   "outputs": [
    {
     "data": {
      "text/plain": [
       "step_id               int64\n",
       "timestamp             int64\n",
       "action               object\n",
       "user_id               int64\n",
       "date         datetime64[ns]\n",
       "day                  object\n",
       "dtype: object"
      ]
     },
     "execution_count": 8,
     "metadata": {},
     "output_type": "execute_result"
    }
   ],
   "source": [
    "events_data.dtypes\n"
   ]
  },
  {
   "cell_type": "code",
   "execution_count": 9,
   "id": "50a300f1",
   "metadata": {},
   "outputs": [
    {
     "data": {
      "text/plain": [
       "Timestamp('2015-06-15 04:00:48')"
      ]
     },
     "execution_count": 9,
     "metadata": {},
     "output_type": "execute_result"
    }
   ],
   "source": [
    "events_data.date.min()"
   ]
  },
  {
   "cell_type": "code",
   "execution_count": 10,
   "id": "bf5a696a",
   "metadata": {},
   "outputs": [
    {
     "data": {
      "text/plain": [
       "Timestamp('2018-05-19 23:33:31')"
      ]
     },
     "execution_count": 10,
     "metadata": {},
     "output_type": "execute_result"
    }
   ],
   "source": [
    "events_data.date.max()\n"
   ]
  },
  {
   "cell_type": "code",
   "execution_count": 11,
   "id": "5214ffdb",
   "metadata": {},
   "outputs": [
    {
     "data": {
      "text/html": [
       "<div>\n",
       "<style scoped>\n",
       "    .dataframe tbody tr th:only-of-type {\n",
       "        vertical-align: middle;\n",
       "    }\n",
       "\n",
       "    .dataframe tbody tr th {\n",
       "        vertical-align: top;\n",
       "    }\n",
       "\n",
       "    .dataframe thead th {\n",
       "        text-align: right;\n",
       "    }\n",
       "</style>\n",
       "<table border=\"1\" class=\"dataframe\">\n",
       "  <thead>\n",
       "    <tr style=\"text-align: right;\">\n",
       "      <th></th>\n",
       "      <th>day</th>\n",
       "      <th>user_id</th>\n",
       "    </tr>\n",
       "  </thead>\n",
       "  <tbody>\n",
       "    <tr>\n",
       "      <th>0</th>\n",
       "      <td>2015-06-15</td>\n",
       "      <td>705</td>\n",
       "    </tr>\n",
       "    <tr>\n",
       "      <th>1</th>\n",
       "      <td>2015-06-16</td>\n",
       "      <td>526</td>\n",
       "    </tr>\n",
       "    <tr>\n",
       "      <th>2</th>\n",
       "      <td>2015-06-17</td>\n",
       "      <td>440</td>\n",
       "    </tr>\n",
       "    <tr>\n",
       "      <th>3</th>\n",
       "      <td>2015-06-18</td>\n",
       "      <td>411</td>\n",
       "    </tr>\n",
       "    <tr>\n",
       "      <th>4</th>\n",
       "      <td>2015-06-19</td>\n",
       "      <td>377</td>\n",
       "    </tr>\n",
       "    <tr>\n",
       "      <th>5</th>\n",
       "      <td>2015-06-20</td>\n",
       "      <td>294</td>\n",
       "    </tr>\n",
       "    <tr>\n",
       "      <th>6</th>\n",
       "      <td>2015-06-21</td>\n",
       "      <td>292</td>\n",
       "    </tr>\n",
       "    <tr>\n",
       "      <th>7</th>\n",
       "      <td>2015-06-22</td>\n",
       "      <td>516</td>\n",
       "    </tr>\n",
       "    <tr>\n",
       "      <th>8</th>\n",
       "      <td>2015-06-23</td>\n",
       "      <td>520</td>\n",
       "    </tr>\n",
       "    <tr>\n",
       "      <th>9</th>\n",
       "      <td>2015-06-24</td>\n",
       "      <td>471</td>\n",
       "    </tr>\n",
       "    <tr>\n",
       "      <th>10</th>\n",
       "      <td>2015-06-25</td>\n",
       "      <td>431</td>\n",
       "    </tr>\n",
       "    <tr>\n",
       "      <th>11</th>\n",
       "      <td>2015-06-26</td>\n",
       "      <td>392</td>\n",
       "    </tr>\n",
       "    <tr>\n",
       "      <th>12</th>\n",
       "      <td>2015-06-27</td>\n",
       "      <td>334</td>\n",
       "    </tr>\n",
       "    <tr>\n",
       "      <th>13</th>\n",
       "      <td>2015-06-28</td>\n",
       "      <td>345</td>\n",
       "    </tr>\n",
       "    <tr>\n",
       "      <th>14</th>\n",
       "      <td>2015-06-29</td>\n",
       "      <td>579</td>\n",
       "    </tr>\n",
       "    <tr>\n",
       "      <th>15</th>\n",
       "      <td>2015-06-30</td>\n",
       "      <td>508</td>\n",
       "    </tr>\n",
       "    <tr>\n",
       "      <th>16</th>\n",
       "      <td>2015-07-01</td>\n",
       "      <td>476</td>\n",
       "    </tr>\n",
       "    <tr>\n",
       "      <th>17</th>\n",
       "      <td>2015-07-02</td>\n",
       "      <td>437</td>\n",
       "    </tr>\n",
       "    <tr>\n",
       "      <th>18</th>\n",
       "      <td>2015-07-03</td>\n",
       "      <td>458</td>\n",
       "    </tr>\n",
       "    <tr>\n",
       "      <th>19</th>\n",
       "      <td>2015-07-04</td>\n",
       "      <td>364</td>\n",
       "    </tr>\n",
       "  </tbody>\n",
       "</table>\n",
       "</div>"
      ],
      "text/plain": [
       "           day  user_id\n",
       "0   2015-06-15      705\n",
       "1   2015-06-16      526\n",
       "2   2015-06-17      440\n",
       "3   2015-06-18      411\n",
       "4   2015-06-19      377\n",
       "5   2015-06-20      294\n",
       "6   2015-06-21      292\n",
       "7   2015-06-22      516\n",
       "8   2015-06-23      520\n",
       "9   2015-06-24      471\n",
       "10  2015-06-25      431\n",
       "11  2015-06-26      392\n",
       "12  2015-06-27      334\n",
       "13  2015-06-28      345\n",
       "14  2015-06-29      579\n",
       "15  2015-06-30      508\n",
       "16  2015-07-01      476\n",
       "17  2015-07-02      437\n",
       "18  2015-07-03      458\n",
       "19  2015-07-04      364"
      ]
     },
     "execution_count": 11,
     "metadata": {},
     "output_type": "execute_result"
    }
   ],
   "source": [
    "events_data.groupby('day', as_index = False).agg({'user_id':'nunique'}).head(20)            #количество уникальных пользователей по дням"
   ]
  },
  {
   "cell_type": "code",
   "execution_count": 12,
   "id": "d83d3702",
   "metadata": {},
   "outputs": [
    {
     "data": {
      "text/plain": [
       "<AxesSubplot:>"
      ]
     },
     "execution_count": 12,
     "metadata": {},
     "output_type": "execute_result"
    },
    {
     "data": {
      "image/png": "[encoded data removed]",
      "text/plain": [
       "<Figure size 900x600 with 1 Axes>"
      ]
     },
     "metadata": {},
     "output_type": "display_data"
    }
   ],
   "source": [
    "events_data.groupby('day', as_index = False).agg({'user_id':'nunique'}).plot()              #график числа уникальных пользователей по дням"
   ]
  },
  {
   "cell_type": "code",
   "execution_count": 13,
   "id": "02949b47",
   "metadata": {},
   "outputs": [
    {
     "data": {
      "text/plain": [
       "<AxesSubplot:>"
      ]
     },
     "execution_count": 13,
     "metadata": {},
     "output_type": "execute_result"
    },
    {
     "data": {
      "image/png": "[encoded data removed]",
      "text/plain": [
       "<Figure size 900x600 with 1 Axes>"
      ]
     },
     "metadata": {},
     "output_type": "display_data"
    }
   ],
   "source": [
    "events_data.pivot_table(index='user_id',                                                    #диаграмма распределения\n",
    "                        columns='action',                                                   #числа пользователей по кол-ву пройденных ими степов\n",
    "                        values='step_id',\n",
    "                        aggfunc='count',\n",
    "                        fill_value=0).passed.hist()"
   ]
  },
  {
   "cell_type": "code",
   "execution_count": 14,
   "id": "78eb1f26",
   "metadata": {},
   "outputs": [],
   "source": [
    "submission_data = submission_data.assign(date = pd.to_datetime(submission_data.timestamp, unit='s'))"
   ]
  },
  {
   "cell_type": "code",
   "execution_count": 15,
   "id": "aba19c18",
   "metadata": {},
   "outputs": [],
   "source": [
    "submission_data = submission_data.assign(day = submission_data.date.dt.date)"
   ]
  },
  {
   "cell_type": "code",
   "execution_count": 16,
   "id": "4273b41f",
   "metadata": {},
   "outputs": [],
   "source": [
    "users_scores = submission_data.pivot_table(index='user_id', \n",
    "                                           columns='submission_status',                      #число правильных и неправильных ответов\n",
    "                                           values='step_id',                                 #у каждого ученика\n",
    "                                           aggfunc='count', \n",
    "                                           fill_value=0).reset_index()"
   ]
  },
  {
   "cell_type": "code",
   "execution_count": 17,
   "id": "34793fc8",
   "metadata": {},
   "outputs": [
    {
     "data": {
      "text/plain": [
       "9940"
      ]
     },
     "execution_count": 17,
     "metadata": {},
     "output_type": "execute_result"
    }
   ],
   "source": [
    "users_scores.user_id.nunique()                                                               #проверка числа учеников"
   ]
  },
  {
   "cell_type": "code",
   "execution_count": 18,
   "id": "b8aba541",
   "metadata": {},
   "outputs": [
    {
     "data": {
      "text/plain": [
       "9940"
      ]
     },
     "execution_count": 18,
     "metadata": {},
     "output_type": "execute_result"
    }
   ],
   "source": [
    "submission_data.user_id.nunique()                                                            #должно совпадать"
   ]
  },
  {
   "cell_type": "code",
   "execution_count": 19,
   "id": "dd7b948f",
   "metadata": {},
   "outputs": [],
   "source": [
    "events_data_passed = events_data.pivot_table(index='user_id', \n",
    "                                             columns='action',                              #число различных действий \n",
    "                                             values='step_id',                              #каждого ученика\n",
    "                                             aggfunc='count', \n",
    "                                             fill_value=0).reset_index()"
   ]
  },
  {
   "cell_type": "code",
   "execution_count": 20,
   "id": "98a232d3",
   "metadata": {},
   "outputs": [
    {
     "data": {
      "text/plain": [
       "19234"
      ]
     },
     "execution_count": 20,
     "metadata": {},
     "output_type": "execute_result"
    }
   ],
   "source": [
    "events_data_passed.user_id.nunique()"
   ]
  },
  {
   "cell_type": "code",
   "execution_count": 21,
   "id": "deba03e6",
   "metadata": {},
   "outputs": [
    {
     "data": {
      "text/plain": [
       "19234"
      ]
     },
     "execution_count": 21,
     "metadata": {},
     "output_type": "execute_result"
    }
   ],
   "source": [
    "events_data.user_id.nunique()"
   ]
  },
  {
   "cell_type": "code",
   "execution_count": 22,
   "id": "9ce2956b",
   "metadata": {},
   "outputs": [],
   "source": [
    "gap_data = events_data[['user_id','day','timestamp']].drop_duplicates(subset=['user_id','day'])\\\n",
    "    .groupby('user_id')['timestamp'].apply(list)\\\n",
    "    .apply(np.diff).values                                                                                      #удаляем повторные заходы пользователя на курс в течение дня\n",
    "                                                                                                                #группируем по user_id b и делаем списки со временем заходов на курс для каждого пользователя\n",
    "                                                                                                                #делаем списки с разницей между двумя соседними значениями (перерывы между заходами на курс)\n",
    "                                                                                                                #с помощью values сохраняем в массив полученные списки"
   ]
  },
  {
   "cell_type": "code",
   "execution_count": 23,
   "id": "fe54cbf4",
   "metadata": {},
   "outputs": [],
   "source": [
    "gap_data = pd.Series(np.concatenate(gap_data, axis = 0))                   #объединяем в один массив данные из первых подмассивов gap_data и создаем серию"
   ]
  },
  {
   "cell_type": "code",
   "execution_count": 24,
   "id": "1e3938b3",
   "metadata": {},
   "outputs": [],
   "source": [
    "gap_data = gap_data/(24*60*60)                                             #перевод в дни"
   ]
  },
  {
   "cell_type": "code",
   "execution_count": 25,
   "id": "95c74dba",
   "metadata": {},
   "outputs": [
    {
     "data": {
      "text/plain": [
       "<AxesSubplot:>"
      ]
     },
     "execution_count": 25,
     "metadata": {},
     "output_type": "execute_result"
    },
    {
     "data": {
      "image/png": "[encoded data removed]",
      "text/plain": [
       "<Figure size 900x600 with 1 Axes>"
      ]
     },
     "metadata": {},
     "output_type": "display_data"
    }
   ],
   "source": [
    "gap_data[gap_data < 100].hist()                                            #гистограмма перерывов между заходами на курс среди пользователей (лимит до 100 дней)"
   ]
  },
  {
   "cell_type": "code",
   "execution_count": 26,
   "id": "f31b7ae0",
   "metadata": {},
   "outputs": [],
   "source": [
    "drop_out_time = gap_data.quantile(0.90)                                    #время перерыва между заходами на урок, которое не превышают 90% пользователей\n"
   ]
  },
  {
   "cell_type": "code",
   "execution_count": 27,
   "id": "6d7bbf64",
   "metadata": {},
   "outputs": [],
   "source": [
    "now = events_data.timestamp.max()                                          #последнее время наблюдений "
   ]
  },
  {
   "cell_type": "code",
   "execution_count": 28,
   "id": "ec8a3950",
   "metadata": {},
   "outputs": [],
   "source": [
    "user_data = events_data.groupby('user_id', as_index=False)\\\n",
    ".agg({'timestamp':'max'}).rename(columns={'timestamp':'last_timestamp'})  #находим время последнего посещения курса пользователями                             "
   ]
  },
  {
   "cell_type": "code",
   "execution_count": 29,
   "id": "45164004",
   "metadata": {},
   "outputs": [],
   "source": [
    "user_data['is_gone'] = (now - user_data.last_timestamp) > 30*24*60*60        #сравниваем разницу между текущим временем и временем последнего посещения \n",
    "                                                                             #пользователем курсов со найденным перерывом между посещениями -\n",
    "                                                                             #приблизительная разница между 95-ым перцентилем в 60 и 90-м перцентилем в 18 дней"
   ]
  },
  {
   "cell_type": "code",
   "execution_count": 30,
   "id": "4bb0f65c",
   "metadata": {},
   "outputs": [],
   "source": [
    "user_data = user_data.merge(users_scores, on='user_id', how='outer')           #объединяем с таблицей users_score по User_id, отсутствующие значения будут как NaN"
   ]
  },
  {
   "cell_type": "code",
   "execution_count": 31,
   "id": "9392600e",
   "metadata": {},
   "outputs": [],
   "source": [
    "user_data = user_data.fillna(0)                                                #заменяем NaN на 0"
   ]
  },
  {
   "cell_type": "code",
   "execution_count": 32,
   "id": "136a0d4c",
   "metadata": {},
   "outputs": [],
   "source": [
    "user_data = user_data.merge(events_data_passed, on = 'user_id', how='outer')   #добавляем таблицу events_data_passed"
   ]
  },
  {
   "cell_type": "code",
   "execution_count": 33,
   "id": "8ab26774",
   "metadata": {},
   "outputs": [],
   "source": [
    "user_days = events_data.groupby('user_id').day.nunique().to_frame().reset_index()   #число дней на курсе каждого пользователя"
   ]
  },
  {
   "cell_type": "code",
   "execution_count": 34,
   "id": "2ec2a64e",
   "metadata": {},
   "outputs": [],
   "source": [
    "user_data = user_data.merge(user_days, on = 'user_id', how='outer')            #добавляем таблицу user_days"
   ]
  },
  {
   "cell_type": "code",
   "execution_count": 35,
   "id": "acc4467f",
   "metadata": {},
   "outputs": [
    {
     "data": {
      "text/plain": [
       "19234"
      ]
     },
     "execution_count": 35,
     "metadata": {},
     "output_type": "execute_result"
    }
   ],
   "source": [
    "user_data.user_id.nunique()                                                    #проверяем кол-во user_id (должно совпадать с первоначлаьной таблицей)"
   ]
  },
  {
   "cell_type": "code",
   "execution_count": 36,
   "id": "22361cb1",
   "metadata": {},
   "outputs": [
    {
     "data": {
      "text/plain": [
       "19234"
      ]
     },
     "execution_count": 36,
     "metadata": {},
     "output_type": "execute_result"
    }
   ],
   "source": [
    "events_data.user_id.nunique()"
   ]
  },
  {
   "cell_type": "code",
   "execution_count": 37,
   "id": "99f67abd",
   "metadata": {},
   "outputs": [],
   "source": [
    "user_data['passed_course'] = user_data.passed > 170                            #cоздаем новую колонку, где будем сранивать кол-во пройденных уроков с заданным (условно) значением"
   ]
  },
  {
   "cell_type": "code",
   "execution_count": 38,
   "id": "eb9f2eda",
   "metadata": {},
   "outputs": [
    {
     "data": {
      "text/html": [
       "<div>\n",
       "<style scoped>\n",
       "    .dataframe tbody tr th:only-of-type {\n",
       "        vertical-align: middle;\n",
       "    }\n",
       "\n",
       "    .dataframe tbody tr th {\n",
       "        vertical-align: top;\n",
       "    }\n",
       "\n",
       "    .dataframe thead th {\n",
       "        text-align: right;\n",
       "    }\n",
       "</style>\n",
       "<table border=\"1\" class=\"dataframe\">\n",
       "  <thead>\n",
       "    <tr style=\"text-align: right;\">\n",
       "      <th></th>\n",
       "      <th>passed_course</th>\n",
       "      <th>user_id</th>\n",
       "      <th>last_timestamp</th>\n",
       "      <th>is_gone</th>\n",
       "      <th>correct</th>\n",
       "      <th>wrong</th>\n",
       "      <th>discovered</th>\n",
       "      <th>passed</th>\n",
       "      <th>started_attempt</th>\n",
       "      <th>viewed</th>\n",
       "      <th>day</th>\n",
       "    </tr>\n",
       "  </thead>\n",
       "  <tbody>\n",
       "    <tr>\n",
       "      <th>0</th>\n",
       "      <td>False</td>\n",
       "      <td>17809</td>\n",
       "      <td>17809</td>\n",
       "      <td>17809</td>\n",
       "      <td>17809</td>\n",
       "      <td>17809</td>\n",
       "      <td>17809</td>\n",
       "      <td>17809</td>\n",
       "      <td>17809</td>\n",
       "      <td>17809</td>\n",
       "      <td>17809</td>\n",
       "    </tr>\n",
       "    <tr>\n",
       "      <th>1</th>\n",
       "      <td>True</td>\n",
       "      <td>1425</td>\n",
       "      <td>1425</td>\n",
       "      <td>1425</td>\n",
       "      <td>1425</td>\n",
       "      <td>1425</td>\n",
       "      <td>1425</td>\n",
       "      <td>1425</td>\n",
       "      <td>1425</td>\n",
       "      <td>1425</td>\n",
       "      <td>1425</td>\n",
       "    </tr>\n",
       "  </tbody>\n",
       "</table>\n",
       "</div>"
      ],
      "text/plain": [
       "   passed_course  user_id  last_timestamp  is_gone  correct  wrong  discovered  passed  started_attempt  viewed    day\n",
       "0          False    17809           17809    17809    17809  17809       17809   17809            17809   17809  17809\n",
       "1           True     1425            1425     1425     1425   1425        1425    1425             1425    1425   1425"
      ]
     },
     "execution_count": 38,
     "metadata": {},
     "output_type": "execute_result"
    }
   ],
   "source": [
    "user_data.groupby('passed_course').count().reset_index()                       #соотношение числа прошедших и покинувших курс"
   ]
  },
  {
   "cell_type": "code",
   "execution_count": null,
   "id": "591fba36",
   "metadata": {},
   "outputs": [],
   "source": []
  },
  {
   "cell_type": "code",
   "execution_count": 39,
   "id": "b9bfd284",
   "metadata": {},
   "outputs": [
    {
     "data": {
      "text/plain": [
       "'Можно ли по поведению пользователя за первые 3 дня предсказать, закончит ли он курс '"
      ]
     },
     "execution_count": 39,
     "metadata": {},
     "output_type": "execute_result"
    }
   ],
   "source": [
    "\"\"\"Можно ли по поведению пользователя за первые 3 дня предсказать, закончит ли он курс \"\"\""
   ]
  },
  {
   "cell_type": "code",
   "execution_count": 40,
   "id": "50dd7851",
   "metadata": {},
   "outputs": [],
   "source": [
    "day_median = user_data[user_data.passed_course == True].day.median()            #медиана кол-ва дней для завершения курса"
   ]
  },
  {
   "cell_type": "code",
   "execution_count": 41,
   "id": "1e95482d",
   "metadata": {},
   "outputs": [
    {
     "data": {
      "text/plain": [
       "array([<AxesSubplot:title={'center':'False'}>,\n",
       "       <AxesSubplot:title={'center':'True'}>], dtype=object)"
      ]
     },
     "execution_count": 41,
     "metadata": {},
     "output_type": "execute_result"
    },
    {
     "data": {
      "image/png": "[encoded data removed]",
      "text/plain": [
       "<Figure size 900x600 with 2 Axes>"
      ]
     },
     "metadata": {},
     "output_type": "display_data"
    }
   ],
   "source": [
    "user_data[user_data.passed_course == True].day.hist(user_data.day < 50)                                                         #гистограмма рапсредления кол-ва прошедших курс по числу дней на курсе (ограниение шкалы day 50)"
   ]
  },
  {
   "cell_type": "code",
   "execution_count": 42,
   "id": "3a1b7771",
   "metadata": {},
   "outputs": [],
   "source": [
    "user_min_time = events_data.groupby('user_id', as_index=False)\\\n",
    "    .agg({'timestamp':'min'}).rename({'timestamp':'min_timestamp'}, axis=1)                    #время начала курса для каждого пользователя"
   ]
  },
  {
   "cell_type": "code",
   "execution_count": 43,
   "id": "329af69a",
   "metadata": {},
   "outputs": [
    {
     "data": {
      "text/html": [
       "<div>\n",
       "<style scoped>\n",
       "    .dataframe tbody tr th:only-of-type {\n",
       "        vertical-align: middle;\n",
       "    }\n",
       "\n",
       "    .dataframe tbody tr th {\n",
       "        vertical-align: top;\n",
       "    }\n",
       "\n",
       "    .dataframe thead th {\n",
       "        text-align: right;\n",
       "    }\n",
       "</style>\n",
       "<table border=\"1\" class=\"dataframe\">\n",
       "  <thead>\n",
       "    <tr style=\"text-align: right;\">\n",
       "      <th></th>\n",
       "      <th>user_id</th>\n",
       "      <th>min_timestamp</th>\n",
       "    </tr>\n",
       "  </thead>\n",
       "  <tbody>\n",
       "    <tr>\n",
       "      <th>0</th>\n",
       "      <td>1</td>\n",
       "      <td>1472827464</td>\n",
       "    </tr>\n",
       "    <tr>\n",
       "      <th>1</th>\n",
       "      <td>2</td>\n",
       "      <td>1514383364</td>\n",
       "    </tr>\n",
       "    <tr>\n",
       "      <th>2</th>\n",
       "      <td>3</td>\n",
       "      <td>1434358476</td>\n",
       "    </tr>\n",
       "    <tr>\n",
       "      <th>3</th>\n",
       "      <td>5</td>\n",
       "      <td>1466156809</td>\n",
       "    </tr>\n",
       "    <tr>\n",
       "      <th>4</th>\n",
       "      <td>7</td>\n",
       "      <td>1521634660</td>\n",
       "    </tr>\n",
       "    <tr>\n",
       "      <th>...</th>\n",
       "      <td>...</td>\n",
       "      <td>...</td>\n",
       "    </tr>\n",
       "    <tr>\n",
       "      <th>19229</th>\n",
       "      <td>26790</td>\n",
       "      <td>1451484016</td>\n",
       "    </tr>\n",
       "    <tr>\n",
       "      <th>19230</th>\n",
       "      <td>26793</td>\n",
       "      <td>1510225031</td>\n",
       "    </tr>\n",
       "    <tr>\n",
       "      <th>19231</th>\n",
       "      <td>26794</td>\n",
       "      <td>1495287049</td>\n",
       "    </tr>\n",
       "    <tr>\n",
       "      <th>19232</th>\n",
       "      <td>26797</td>\n",
       "      <td>1508425316</td>\n",
       "    </tr>\n",
       "    <tr>\n",
       "      <th>19233</th>\n",
       "      <td>26798</td>\n",
       "      <td>1520975763</td>\n",
       "    </tr>\n",
       "  </tbody>\n",
       "</table>\n",
       "<p>19234 rows × 2 columns</p>\n",
       "</div>"
      ],
      "text/plain": [
       "       user_id  min_timestamp\n",
       "0            1     1472827464\n",
       "1            2     1514383364\n",
       "2            3     1434358476\n",
       "3            5     1466156809\n",
       "4            7     1521634660\n",
       "...        ...            ...\n",
       "19229    26790     1451484016\n",
       "19230    26793     1510225031\n",
       "19231    26794     1495287049\n",
       "19232    26797     1508425316\n",
       "19233    26798     1520975763\n",
       "\n",
       "[19234 rows x 2 columns]"
      ]
     },
     "execution_count": 43,
     "metadata": {},
     "output_type": "execute_result"
    }
   ],
   "source": [
    "user_min_time"
   ]
  },
  {
   "cell_type": "code",
   "execution_count": 44,
   "id": "9b648d21",
   "metadata": {},
   "outputs": [],
   "source": [
    "user_data = user_data.merge(user_min_time, how='outer')                                        #объединяем датафреймы "
   ]
  },
  {
   "cell_type": "code",
   "execution_count": 45,
   "id": "c25881b0",
   "metadata": {},
   "outputs": [
    {
     "data": {
      "text/html": [
       "<div>\n",
       "<style scoped>\n",
       "    .dataframe tbody tr th:only-of-type {\n",
       "        vertical-align: middle;\n",
       "    }\n",
       "\n",
       "    .dataframe tbody tr th {\n",
       "        vertical-align: top;\n",
       "    }\n",
       "\n",
       "    .dataframe thead th {\n",
       "        text-align: right;\n",
       "    }\n",
       "</style>\n",
       "<table border=\"1\" class=\"dataframe\">\n",
       "  <thead>\n",
       "    <tr style=\"text-align: right;\">\n",
       "      <th></th>\n",
       "      <th>user_id</th>\n",
       "      <th>last_timestamp</th>\n",
       "      <th>is_gone</th>\n",
       "      <th>correct</th>\n",
       "      <th>wrong</th>\n",
       "      <th>discovered</th>\n",
       "      <th>passed</th>\n",
       "      <th>started_attempt</th>\n",
       "      <th>viewed</th>\n",
       "      <th>day</th>\n",
       "      <th>passed_course</th>\n",
       "      <th>min_timestamp</th>\n",
       "    </tr>\n",
       "  </thead>\n",
       "  <tbody>\n",
       "    <tr>\n",
       "      <th>0</th>\n",
       "      <td>1</td>\n",
       "      <td>1472827464</td>\n",
       "      <td>True</td>\n",
       "      <td>0.0</td>\n",
       "      <td>0.0</td>\n",
       "      <td>1</td>\n",
       "      <td>0</td>\n",
       "      <td>0</td>\n",
       "      <td>1</td>\n",
       "      <td>1</td>\n",
       "      <td>False</td>\n",
       "      <td>1472827464</td>\n",
       "    </tr>\n",
       "    <tr>\n",
       "      <th>1</th>\n",
       "      <td>2</td>\n",
       "      <td>1519226966</td>\n",
       "      <td>True</td>\n",
       "      <td>2.0</td>\n",
       "      <td>0.0</td>\n",
       "      <td>9</td>\n",
       "      <td>9</td>\n",
       "      <td>2</td>\n",
       "      <td>10</td>\n",
       "      <td>2</td>\n",
       "      <td>False</td>\n",
       "      <td>1514383364</td>\n",
       "    </tr>\n",
       "    <tr>\n",
       "      <th>2</th>\n",
       "      <td>3</td>\n",
       "      <td>1444581588</td>\n",
       "      <td>True</td>\n",
       "      <td>29.0</td>\n",
       "      <td>23.0</td>\n",
       "      <td>91</td>\n",
       "      <td>87</td>\n",
       "      <td>30</td>\n",
       "      <td>192</td>\n",
       "      <td>7</td>\n",
       "      <td>False</td>\n",
       "      <td>1434358476</td>\n",
       "    </tr>\n",
       "    <tr>\n",
       "      <th>3</th>\n",
       "      <td>5</td>\n",
       "      <td>1499859939</td>\n",
       "      <td>True</td>\n",
       "      <td>2.0</td>\n",
       "      <td>2.0</td>\n",
       "      <td>11</td>\n",
       "      <td>11</td>\n",
       "      <td>4</td>\n",
       "      <td>12</td>\n",
       "      <td>2</td>\n",
       "      <td>False</td>\n",
       "      <td>1466156809</td>\n",
       "    </tr>\n",
       "    <tr>\n",
       "      <th>4</th>\n",
       "      <td>7</td>\n",
       "      <td>1521634660</td>\n",
       "      <td>True</td>\n",
       "      <td>0.0</td>\n",
       "      <td>0.0</td>\n",
       "      <td>1</td>\n",
       "      <td>1</td>\n",
       "      <td>0</td>\n",
       "      <td>1</td>\n",
       "      <td>1</td>\n",
       "      <td>False</td>\n",
       "      <td>1521634660</td>\n",
       "    </tr>\n",
       "    <tr>\n",
       "      <th>...</th>\n",
       "      <td>...</td>\n",
       "      <td>...</td>\n",
       "      <td>...</td>\n",
       "      <td>...</td>\n",
       "      <td>...</td>\n",
       "      <td>...</td>\n",
       "      <td>...</td>\n",
       "      <td>...</td>\n",
       "      <td>...</td>\n",
       "      <td>...</td>\n",
       "      <td>...</td>\n",
       "      <td>...</td>\n",
       "    </tr>\n",
       "    <tr>\n",
       "      <th>19229</th>\n",
       "      <td>26790</td>\n",
       "      <td>1517495987</td>\n",
       "      <td>True</td>\n",
       "      <td>1.0</td>\n",
       "      <td>0.0</td>\n",
       "      <td>8</td>\n",
       "      <td>8</td>\n",
       "      <td>1</td>\n",
       "      <td>9</td>\n",
       "      <td>4</td>\n",
       "      <td>False</td>\n",
       "      <td>1451484016</td>\n",
       "    </tr>\n",
       "    <tr>\n",
       "      <th>19230</th>\n",
       "      <td>26793</td>\n",
       "      <td>1510225034</td>\n",
       "      <td>True</td>\n",
       "      <td>0.0</td>\n",
       "      <td>0.0</td>\n",
       "      <td>1</td>\n",
       "      <td>0</td>\n",
       "      <td>1</td>\n",
       "      <td>1</td>\n",
       "      <td>1</td>\n",
       "      <td>False</td>\n",
       "      <td>1510225031</td>\n",
       "    </tr>\n",
       "    <tr>\n",
       "      <th>19231</th>\n",
       "      <td>26794</td>\n",
       "      <td>1512035039</td>\n",
       "      <td>True</td>\n",
       "      <td>33.0</td>\n",
       "      <td>9.0</td>\n",
       "      <td>69</td>\n",
       "      <td>69</td>\n",
       "      <td>34</td>\n",
       "      <td>180</td>\n",
       "      <td>9</td>\n",
       "      <td>False</td>\n",
       "      <td>1495287049</td>\n",
       "    </tr>\n",
       "    <tr>\n",
       "      <th>19232</th>\n",
       "      <td>26797</td>\n",
       "      <td>1509995096</td>\n",
       "      <td>True</td>\n",
       "      <td>2.0</td>\n",
       "      <td>0.0</td>\n",
       "      <td>10</td>\n",
       "      <td>10</td>\n",
       "      <td>2</td>\n",
       "      <td>13</td>\n",
       "      <td>2</td>\n",
       "      <td>False</td>\n",
       "      <td>1508425316</td>\n",
       "    </tr>\n",
       "    <tr>\n",
       "      <th>19233</th>\n",
       "      <td>26798</td>\n",
       "      <td>1520978742</td>\n",
       "      <td>True</td>\n",
       "      <td>2.0</td>\n",
       "      <td>1.0</td>\n",
       "      <td>12</td>\n",
       "      <td>12</td>\n",
       "      <td>3</td>\n",
       "      <td>12</td>\n",
       "      <td>1</td>\n",
       "      <td>False</td>\n",
       "      <td>1520975763</td>\n",
       "    </tr>\n",
       "  </tbody>\n",
       "</table>\n",
       "<p>19234 rows × 12 columns</p>\n",
       "</div>"
      ],
      "text/plain": [
       "       user_id  last_timestamp  is_gone  correct  wrong  discovered  passed  started_attempt  viewed  day  passed_course  min_timestamp\n",
       "0            1      1472827464     True      0.0    0.0           1       0                0       1    1          False     1472827464\n",
       "1            2      1519226966     True      2.0    0.0           9       9                2      10    2          False     1514383364\n",
       "2            3      1444581588     True     29.0   23.0          91      87               30     192    7          False     1434358476\n",
       "3            5      1499859939     True      2.0    2.0          11      11                4      12    2          False     1466156809\n",
       "4            7      1521634660     True      0.0    0.0           1       1                0       1    1          False     1521634660\n",
       "...        ...             ...      ...      ...    ...         ...     ...              ...     ...  ...            ...            ...\n",
       "19229    26790      1517495987     True      1.0    0.0           8       8                1       9    4          False     1451484016\n",
       "19230    26793      1510225034     True      0.0    0.0           1       0                1       1    1          False     1510225031\n",
       "19231    26794      1512035039     True     33.0    9.0          69      69               34     180    9          False     1495287049\n",
       "19232    26797      1509995096     True      2.0    0.0          10      10                2      13    2          False     1508425316\n",
       "19233    26798      1520978742     True      2.0    1.0          12      12                3      12    1          False     1520975763\n",
       "\n",
       "[19234 rows x 12 columns]"
      ]
     },
     "execution_count": 45,
     "metadata": {},
     "output_type": "execute_result"
    }
   ],
   "source": [
    "user_data"
   ]
  },
  {
   "cell_type": "code",
   "execution_count": 46,
   "id": "058c0d8c",
   "metadata": {},
   "outputs": [],
   "source": [
    "learning_day = 3*24*60*60                                                                      #3 дня в секундах"
   ]
  },
  {
   "cell_type": "code",
   "execution_count": 47,
   "id": "a337d900",
   "metadata": {},
   "outputs": [],
   "source": [
    "user_data['min_time + 3days'] = user_data.min_timestamp + learning_day                         #добавляем в новую колонку время равное 3 дням обучения с начала курса"
   ]
  },
  {
   "cell_type": "code",
   "execution_count": 48,
   "id": "18e3ef1f",
   "metadata": {},
   "outputs": [],
   "source": [
    "user_data_temp = user_data[['user_id','min_time + 3days']]                                     #временная таблица"
   ]
  },
  {
   "cell_type": "code",
   "execution_count": 49,
   "id": "8706b068",
   "metadata": {},
   "outputs": [
    {
     "data": {
      "text/plain": [
       "'ОТБИРАЕМ ДАННЫЕ ПО ПЕРВЫМ ТРЕМ ДНЯМ ИЗ events_data'"
      ]
     },
     "execution_count": 49,
     "metadata": {},
     "output_type": "execute_result"
    }
   ],
   "source": [
    "\"\"\"ОТБИРАЕМ ДАННЫЕ ПО ПЕРВЫМ ТРЕМ ДНЯМ ИЗ events_data\"\"\""
   ]
  },
  {
   "cell_type": "code",
   "execution_count": 50,
   "id": "dab362aa",
   "metadata": {},
   "outputs": [],
   "source": [
    "events_data_temp = events_data.merge(user_data_temp, on = 'user_id', how = 'outer')            #добавляем время '3-х' дней в events_data"
   ]
  },
  {
   "cell_type": "code",
   "execution_count": 51,
   "id": "4e12124f",
   "metadata": {},
   "outputs": [],
   "source": [
    "events_data_train = events_data_temp[events_data_temp['timestamp'] <= events_data_temp['min_time + 3days'] ]     #выбираем из полученной таблицы данные за первые три дня с начала курса каждым пользователем"
   ]
  },
  {
   "cell_type": "code",
   "execution_count": 52,
   "id": "c7a40150",
   "metadata": {},
   "outputs": [
    {
     "data": {
      "text/html": [
       "<div>\n",
       "<style scoped>\n",
       "    .dataframe tbody tr th:only-of-type {\n",
       "        vertical-align: middle;\n",
       "    }\n",
       "\n",
       "    .dataframe tbody tr th {\n",
       "        vertical-align: top;\n",
       "    }\n",
       "\n",
       "    .dataframe thead th {\n",
       "        text-align: right;\n",
       "    }\n",
       "</style>\n",
       "<table border=\"1\" class=\"dataframe\">\n",
       "  <thead>\n",
       "    <tr style=\"text-align: right;\">\n",
       "      <th></th>\n",
       "      <th>step_id</th>\n",
       "      <th>timestamp</th>\n",
       "      <th>action</th>\n",
       "      <th>user_id</th>\n",
       "      <th>date</th>\n",
       "      <th>day</th>\n",
       "      <th>min_time + 3days</th>\n",
       "    </tr>\n",
       "  </thead>\n",
       "  <tbody>\n",
       "    <tr>\n",
       "      <th>0</th>\n",
       "      <td>32815</td>\n",
       "      <td>1434340848</td>\n",
       "      <td>viewed</td>\n",
       "      <td>17632</td>\n",
       "      <td>2015-06-15 04:00:48</td>\n",
       "      <td>2015-06-15</td>\n",
       "      <td>1434600048</td>\n",
       "    </tr>\n",
       "    <tr>\n",
       "      <th>1</th>\n",
       "      <td>32815</td>\n",
       "      <td>1434340848</td>\n",
       "      <td>passed</td>\n",
       "      <td>17632</td>\n",
       "      <td>2015-06-15 04:00:48</td>\n",
       "      <td>2015-06-15</td>\n",
       "      <td>1434600048</td>\n",
       "    </tr>\n",
       "    <tr>\n",
       "      <th>2</th>\n",
       "      <td>32815</td>\n",
       "      <td>1434340848</td>\n",
       "      <td>discovered</td>\n",
       "      <td>17632</td>\n",
       "      <td>2015-06-15 04:00:48</td>\n",
       "      <td>2015-06-15</td>\n",
       "      <td>1434600048</td>\n",
       "    </tr>\n",
       "    <tr>\n",
       "      <th>3</th>\n",
       "      <td>32811</td>\n",
       "      <td>1434340895</td>\n",
       "      <td>discovered</td>\n",
       "      <td>17632</td>\n",
       "      <td>2015-06-15 04:01:35</td>\n",
       "      <td>2015-06-15</td>\n",
       "      <td>1434600048</td>\n",
       "    </tr>\n",
       "    <tr>\n",
       "      <th>4</th>\n",
       "      <td>32811</td>\n",
       "      <td>1434340895</td>\n",
       "      <td>viewed</td>\n",
       "      <td>17632</td>\n",
       "      <td>2015-06-15 04:01:35</td>\n",
       "      <td>2015-06-15</td>\n",
       "      <td>1434600048</td>\n",
       "    </tr>\n",
       "    <tr>\n",
       "      <th>...</th>\n",
       "      <td>...</td>\n",
       "      <td>...</td>\n",
       "      <td>...</td>\n",
       "      <td>...</td>\n",
       "      <td>...</td>\n",
       "      <td>...</td>\n",
       "      <td>...</td>\n",
       "    </tr>\n",
       "    <tr>\n",
       "      <th>3480698</th>\n",
       "      <td>32814</td>\n",
       "      <td>1526762783</td>\n",
       "      <td>discovered</td>\n",
       "      <td>943</td>\n",
       "      <td>2018-05-19 20:46:23</td>\n",
       "      <td>2018-05-19</td>\n",
       "      <td>1527021864</td>\n",
       "    </tr>\n",
       "    <tr>\n",
       "      <th>3480699</th>\n",
       "      <td>32814</td>\n",
       "      <td>1526762783</td>\n",
       "      <td>passed</td>\n",
       "      <td>943</td>\n",
       "      <td>2018-05-19 20:46:23</td>\n",
       "      <td>2018-05-19</td>\n",
       "      <td>1527021864</td>\n",
       "    </tr>\n",
       "    <tr>\n",
       "      <th>3480700</th>\n",
       "      <td>32815</td>\n",
       "      <td>1526772750</td>\n",
       "      <td>viewed</td>\n",
       "      <td>5198</td>\n",
       "      <td>2018-05-19 23:32:30</td>\n",
       "      <td>2018-05-19</td>\n",
       "      <td>1527031950</td>\n",
       "    </tr>\n",
       "    <tr>\n",
       "      <th>3480701</th>\n",
       "      <td>32815</td>\n",
       "      <td>1526772750</td>\n",
       "      <td>discovered</td>\n",
       "      <td>5198</td>\n",
       "      <td>2018-05-19 23:32:30</td>\n",
       "      <td>2018-05-19</td>\n",
       "      <td>1527031950</td>\n",
       "    </tr>\n",
       "    <tr>\n",
       "      <th>3480702</th>\n",
       "      <td>32815</td>\n",
       "      <td>1526772750</td>\n",
       "      <td>passed</td>\n",
       "      <td>5198</td>\n",
       "      <td>2018-05-19 23:32:30</td>\n",
       "      <td>2018-05-19</td>\n",
       "      <td>1527031950</td>\n",
       "    </tr>\n",
       "  </tbody>\n",
       "</table>\n",
       "<p>1014985 rows × 7 columns</p>\n",
       "</div>"
      ],
      "text/plain": [
       "         step_id   timestamp      action  user_id                date         day  min_time + 3days\n",
       "0          32815  1434340848      viewed    17632 2015-06-15 04:00:48  2015-06-15        1434600048\n",
       "1          32815  1434340848      passed    17632 2015-06-15 04:00:48  2015-06-15        1434600048\n",
       "2          32815  1434340848  discovered    17632 2015-06-15 04:00:48  2015-06-15        1434600048\n",
       "3          32811  1434340895  discovered    17632 2015-06-15 04:01:35  2015-06-15        1434600048\n",
       "4          32811  1434340895      viewed    17632 2015-06-15 04:01:35  2015-06-15        1434600048\n",
       "...          ...         ...         ...      ...                 ...         ...               ...\n",
       "3480698    32814  1526762783  discovered      943 2018-05-19 20:46:23  2018-05-19        1527021864\n",
       "3480699    32814  1526762783      passed      943 2018-05-19 20:46:23  2018-05-19        1527021864\n",
       "3480700    32815  1526772750      viewed     5198 2018-05-19 23:32:30  2018-05-19        1527031950\n",
       "3480701    32815  1526772750  discovered     5198 2018-05-19 23:32:30  2018-05-19        1527031950\n",
       "3480702    32815  1526772750      passed     5198 2018-05-19 23:32:30  2018-05-19        1527031950\n",
       "\n",
       "[1014985 rows x 7 columns]"
      ]
     },
     "execution_count": 52,
     "metadata": {},
     "output_type": "execute_result"
    }
   ],
   "source": [
    "events_data_train"
   ]
  },
  {
   "cell_type": "code",
   "execution_count": 53,
   "id": "5363d7cc",
   "metadata": {},
   "outputs": [
    {
     "data": {
      "text/plain": [
       "day    4\n",
       "dtype: int64"
      ]
     },
     "execution_count": 53,
     "metadata": {},
     "output_type": "execute_result"
    }
   ],
   "source": [
    "events_data_train.groupby('user_id').agg({'day':'nunique'}).max()                          #проверка , что число уникальных дней не более 4"
   ]
  },
  {
   "cell_type": "code",
   "execution_count": 54,
   "id": "d52a9840",
   "metadata": {},
   "outputs": [
    {
     "data": {
      "text/plain": [
       "'ОТБИРАЕМ ДАННЫЕ ПО ПЕРВЫМ ТРЕМ ДНЯМ ИЗ submission_data'"
      ]
     },
     "execution_count": 54,
     "metadata": {},
     "output_type": "execute_result"
    }
   ],
   "source": [
    "\"\"\"ОТБИРАЕМ ДАННЫЕ ПО ПЕРВЫМ ТРЕМ ДНЯМ ИЗ submission_data\"\"\"\n"
   ]
  },
  {
   "cell_type": "code",
   "execution_count": 55,
   "id": "2498f52e",
   "metadata": {},
   "outputs": [],
   "source": [
    "submission_data_temp = submission_data.merge(user_data_temp, on = 'user_id', how = 'outer')"
   ]
  },
  {
   "cell_type": "code",
   "execution_count": 56,
   "id": "6d12deef",
   "metadata": {},
   "outputs": [],
   "source": [
    "submission_data_train = submission_data_temp[submission_data_temp['timestamp'] <= submission_data_temp['min_time + 3days'] ]"
   ]
  },
  {
   "cell_type": "code",
   "execution_count": 57,
   "id": "6c7d3cfb",
   "metadata": {},
   "outputs": [
    {
     "data": {
      "text/plain": [
       "day    4\n",
       "dtype: int64"
      ]
     },
     "execution_count": 57,
     "metadata": {},
     "output_type": "execute_result"
    }
   ],
   "source": [
    "submission_data_train.groupby('user_id').agg({'day':'nunique'}).max()"
   ]
  },
  {
   "cell_type": "code",
   "execution_count": null,
   "id": "707c9b29",
   "metadata": {},
   "outputs": [],
   "source": []
  },
  {
   "cell_type": "code",
   "execution_count": 58,
   "id": "6fb40373",
   "metadata": {},
   "outputs": [
    {
     "data": {
      "text/plain": [
       "'Формируем переменные X'"
      ]
     },
     "execution_count": 58,
     "metadata": {},
     "output_type": "execute_result"
    }
   ],
   "source": [
    "\"\"\"Формируем переменные X\"\"\"\n"
   ]
  },
  {
   "cell_type": "code",
   "execution_count": 59,
   "id": "0e1abff3",
   "metadata": {},
   "outputs": [],
   "source": [
    "X = submission_data_train.groupby('user_id').day.nunique().to_frame().reset_index().rename(columns={'day':'days'})   #Число уникальных дней пользователя на курсе"
   ]
  },
  {
   "cell_type": "code",
   "execution_count": 60,
   "id": "29bf4ba2",
   "metadata": {},
   "outputs": [
    {
     "data": {
      "text/html": [
       "<div>\n",
       "<style scoped>\n",
       "    .dataframe tbody tr th:only-of-type {\n",
       "        vertical-align: middle;\n",
       "    }\n",
       "\n",
       "    .dataframe tbody tr th {\n",
       "        vertical-align: top;\n",
       "    }\n",
       "\n",
       "    .dataframe thead th {\n",
       "        text-align: right;\n",
       "    }\n",
       "</style>\n",
       "<table border=\"1\" class=\"dataframe\">\n",
       "  <thead>\n",
       "    <tr style=\"text-align: right;\">\n",
       "      <th></th>\n",
       "      <th>user_id</th>\n",
       "      <th>days</th>\n",
       "    </tr>\n",
       "  </thead>\n",
       "  <tbody>\n",
       "    <tr>\n",
       "      <th>0</th>\n",
       "      <td>2</td>\n",
       "      <td>1</td>\n",
       "    </tr>\n",
       "    <tr>\n",
       "      <th>1</th>\n",
       "      <td>3</td>\n",
       "      <td>1</td>\n",
       "    </tr>\n",
       "    <tr>\n",
       "      <th>2</th>\n",
       "      <td>8</td>\n",
       "      <td>1</td>\n",
       "    </tr>\n",
       "    <tr>\n",
       "      <th>3</th>\n",
       "      <td>14</td>\n",
       "      <td>1</td>\n",
       "    </tr>\n",
       "    <tr>\n",
       "      <th>4</th>\n",
       "      <td>16</td>\n",
       "      <td>3</td>\n",
       "    </tr>\n",
       "    <tr>\n",
       "      <th>...</th>\n",
       "      <td>...</td>\n",
       "      <td>...</td>\n",
       "    </tr>\n",
       "    <tr>\n",
       "      <th>8908</th>\n",
       "      <td>26787</td>\n",
       "      <td>1</td>\n",
       "    </tr>\n",
       "    <tr>\n",
       "      <th>8909</th>\n",
       "      <td>26790</td>\n",
       "      <td>1</td>\n",
       "    </tr>\n",
       "    <tr>\n",
       "      <th>8910</th>\n",
       "      <td>26794</td>\n",
       "      <td>3</td>\n",
       "    </tr>\n",
       "    <tr>\n",
       "      <th>8911</th>\n",
       "      <td>26797</td>\n",
       "      <td>1</td>\n",
       "    </tr>\n",
       "    <tr>\n",
       "      <th>8912</th>\n",
       "      <td>26798</td>\n",
       "      <td>1</td>\n",
       "    </tr>\n",
       "  </tbody>\n",
       "</table>\n",
       "<p>8913 rows × 2 columns</p>\n",
       "</div>"
      ],
      "text/plain": [
       "      user_id  days\n",
       "0           2     1\n",
       "1           3     1\n",
       "2           8     1\n",
       "3          14     1\n",
       "4          16     3\n",
       "...       ...   ...\n",
       "8908    26787     1\n",
       "8909    26790     1\n",
       "8910    26794     3\n",
       "8911    26797     1\n",
       "8912    26798     1\n",
       "\n",
       "[8913 rows x 2 columns]"
      ]
     },
     "execution_count": 60,
     "metadata": {},
     "output_type": "execute_result"
    }
   ],
   "source": [
    "X"
   ]
  },
  {
   "cell_type": "code",
   "execution_count": 61,
   "id": "334104b0",
   "metadata": {},
   "outputs": [],
   "source": [
    "steps_tried = submission_data_train.groupby('user_id').step_id.nunique()\\\n",
    "    .to_frame().reset_index().rename(columns={'step_id':'steps_tried'})                                #кол-во уникальных шагов, которые проходил пользователь за первые 3 дня"
   ]
  },
  {
   "cell_type": "code",
   "execution_count": 62,
   "id": "7753b7e7",
   "metadata": {},
   "outputs": [],
   "source": [
    "X = X.merge(steps_tried, on='user_id', how='outer')"
   ]
  },
  {
   "cell_type": "code",
   "execution_count": 63,
   "id": "685a1c1c",
   "metadata": {},
   "outputs": [
    {
     "data": {
      "text/html": [
       "<div>\n",
       "<style scoped>\n",
       "    .dataframe tbody tr th:only-of-type {\n",
       "        vertical-align: middle;\n",
       "    }\n",
       "\n",
       "    .dataframe tbody tr th {\n",
       "        vertical-align: top;\n",
       "    }\n",
       "\n",
       "    .dataframe thead th {\n",
       "        text-align: right;\n",
       "    }\n",
       "</style>\n",
       "<table border=\"1\" class=\"dataframe\">\n",
       "  <thead>\n",
       "    <tr style=\"text-align: right;\">\n",
       "      <th></th>\n",
       "      <th>user_id</th>\n",
       "      <th>days</th>\n",
       "      <th>steps_tried</th>\n",
       "    </tr>\n",
       "  </thead>\n",
       "  <tbody>\n",
       "    <tr>\n",
       "      <th>0</th>\n",
       "      <td>2</td>\n",
       "      <td>1</td>\n",
       "      <td>2</td>\n",
       "    </tr>\n",
       "    <tr>\n",
       "      <th>1</th>\n",
       "      <td>3</td>\n",
       "      <td>1</td>\n",
       "      <td>4</td>\n",
       "    </tr>\n",
       "    <tr>\n",
       "      <th>2</th>\n",
       "      <td>8</td>\n",
       "      <td>1</td>\n",
       "      <td>11</td>\n",
       "    </tr>\n",
       "    <tr>\n",
       "      <th>3</th>\n",
       "      <td>14</td>\n",
       "      <td>1</td>\n",
       "      <td>1</td>\n",
       "    </tr>\n",
       "    <tr>\n",
       "      <th>4</th>\n",
       "      <td>16</td>\n",
       "      <td>3</td>\n",
       "      <td>23</td>\n",
       "    </tr>\n",
       "    <tr>\n",
       "      <th>...</th>\n",
       "      <td>...</td>\n",
       "      <td>...</td>\n",
       "      <td>...</td>\n",
       "    </tr>\n",
       "    <tr>\n",
       "      <th>8908</th>\n",
       "      <td>26787</td>\n",
       "      <td>1</td>\n",
       "      <td>3</td>\n",
       "    </tr>\n",
       "    <tr>\n",
       "      <th>8909</th>\n",
       "      <td>26790</td>\n",
       "      <td>1</td>\n",
       "      <td>1</td>\n",
       "    </tr>\n",
       "    <tr>\n",
       "      <th>8910</th>\n",
       "      <td>26794</td>\n",
       "      <td>3</td>\n",
       "      <td>27</td>\n",
       "    </tr>\n",
       "    <tr>\n",
       "      <th>8911</th>\n",
       "      <td>26797</td>\n",
       "      <td>1</td>\n",
       "      <td>2</td>\n",
       "    </tr>\n",
       "    <tr>\n",
       "      <th>8912</th>\n",
       "      <td>26798</td>\n",
       "      <td>1</td>\n",
       "      <td>2</td>\n",
       "    </tr>\n",
       "  </tbody>\n",
       "</table>\n",
       "<p>8913 rows × 3 columns</p>\n",
       "</div>"
      ],
      "text/plain": [
       "      user_id  days  steps_tried\n",
       "0           2     1            2\n",
       "1           3     1            4\n",
       "2           8     1           11\n",
       "3          14     1            1\n",
       "4          16     3           23\n",
       "...       ...   ...          ...\n",
       "8908    26787     1            3\n",
       "8909    26790     1            1\n",
       "8910    26794     3           27\n",
       "8911    26797     1            2\n",
       "8912    26798     1            2\n",
       "\n",
       "[8913 rows x 3 columns]"
      ]
     },
     "execution_count": 63,
     "metadata": {},
     "output_type": "execute_result"
    }
   ],
   "source": [
    "X"
   ]
  },
  {
   "cell_type": "code",
   "execution_count": 64,
   "id": "67973d11",
   "metadata": {},
   "outputs": [],
   "source": [
    "X = X.merge(submission_data_train.pivot_table(index='user_id',                               \n",
    "                                                 columns='submission_status',\n",
    "                                                 values='step_id',\n",
    "                                                 aggfunc='count', fill_value=0).reset_index())         #добавляем колонки с числом правильных и неправильных ответов пользователя с помошью пивот-таблицы"
   ]
  },
  {
   "cell_type": "code",
   "execution_count": 65,
   "id": "d6319fe3",
   "metadata": {},
   "outputs": [
    {
     "data": {
      "text/html": [
       "<div>\n",
       "<style scoped>\n",
       "    .dataframe tbody tr th:only-of-type {\n",
       "        vertical-align: middle;\n",
       "    }\n",
       "\n",
       "    .dataframe tbody tr th {\n",
       "        vertical-align: top;\n",
       "    }\n",
       "\n",
       "    .dataframe thead th {\n",
       "        text-align: right;\n",
       "    }\n",
       "</style>\n",
       "<table border=\"1\" class=\"dataframe\">\n",
       "  <thead>\n",
       "    <tr style=\"text-align: right;\">\n",
       "      <th></th>\n",
       "      <th>user_id</th>\n",
       "      <th>days</th>\n",
       "      <th>steps_tried</th>\n",
       "      <th>correct</th>\n",
       "      <th>wrong</th>\n",
       "    </tr>\n",
       "  </thead>\n",
       "  <tbody>\n",
       "    <tr>\n",
       "      <th>0</th>\n",
       "      <td>2</td>\n",
       "      <td>1</td>\n",
       "      <td>2</td>\n",
       "      <td>2</td>\n",
       "      <td>0</td>\n",
       "    </tr>\n",
       "    <tr>\n",
       "      <th>1</th>\n",
       "      <td>3</td>\n",
       "      <td>1</td>\n",
       "      <td>4</td>\n",
       "      <td>4</td>\n",
       "      <td>4</td>\n",
       "    </tr>\n",
       "    <tr>\n",
       "      <th>2</th>\n",
       "      <td>8</td>\n",
       "      <td>1</td>\n",
       "      <td>11</td>\n",
       "      <td>9</td>\n",
       "      <td>21</td>\n",
       "    </tr>\n",
       "    <tr>\n",
       "      <th>3</th>\n",
       "      <td>14</td>\n",
       "      <td>1</td>\n",
       "      <td>1</td>\n",
       "      <td>0</td>\n",
       "      <td>1</td>\n",
       "    </tr>\n",
       "    <tr>\n",
       "      <th>4</th>\n",
       "      <td>16</td>\n",
       "      <td>3</td>\n",
       "      <td>23</td>\n",
       "      <td>23</td>\n",
       "      <td>27</td>\n",
       "    </tr>\n",
       "    <tr>\n",
       "      <th>...</th>\n",
       "      <td>...</td>\n",
       "      <td>...</td>\n",
       "      <td>...</td>\n",
       "      <td>...</td>\n",
       "      <td>...</td>\n",
       "    </tr>\n",
       "    <tr>\n",
       "      <th>8908</th>\n",
       "      <td>26787</td>\n",
       "      <td>1</td>\n",
       "      <td>3</td>\n",
       "      <td>3</td>\n",
       "      <td>0</td>\n",
       "    </tr>\n",
       "    <tr>\n",
       "      <th>8909</th>\n",
       "      <td>26790</td>\n",
       "      <td>1</td>\n",
       "      <td>1</td>\n",
       "      <td>1</td>\n",
       "      <td>0</td>\n",
       "    </tr>\n",
       "    <tr>\n",
       "      <th>8910</th>\n",
       "      <td>26794</td>\n",
       "      <td>3</td>\n",
       "      <td>27</td>\n",
       "      <td>31</td>\n",
       "      <td>9</td>\n",
       "    </tr>\n",
       "    <tr>\n",
       "      <th>8911</th>\n",
       "      <td>26797</td>\n",
       "      <td>1</td>\n",
       "      <td>2</td>\n",
       "      <td>2</td>\n",
       "      <td>0</td>\n",
       "    </tr>\n",
       "    <tr>\n",
       "      <th>8912</th>\n",
       "      <td>26798</td>\n",
       "      <td>1</td>\n",
       "      <td>2</td>\n",
       "      <td>2</td>\n",
       "      <td>1</td>\n",
       "    </tr>\n",
       "  </tbody>\n",
       "</table>\n",
       "<p>8913 rows × 5 columns</p>\n",
       "</div>"
      ],
      "text/plain": [
       "      user_id  days  steps_tried  correct  wrong\n",
       "0           2     1            2        2      0\n",
       "1           3     1            4        4      4\n",
       "2           8     1           11        9     21\n",
       "3          14     1            1        0      1\n",
       "4          16     3           23       23     27\n",
       "...       ...   ...          ...      ...    ...\n",
       "8908    26787     1            3        3      0\n",
       "8909    26790     1            1        1      0\n",
       "8910    26794     3           27       31      9\n",
       "8911    26797     1            2        2      0\n",
       "8912    26798     1            2        2      1\n",
       "\n",
       "[8913 rows x 5 columns]"
      ]
     },
     "execution_count": 65,
     "metadata": {},
     "output_type": "execute_result"
    }
   ],
   "source": [
    "X"
   ]
  },
  {
   "cell_type": "code",
   "execution_count": 66,
   "id": "6e2ce1fc",
   "metadata": {},
   "outputs": [],
   "source": [
    "X['correct_ratio'] = (X.correct/(X.correct + X.wrong)).round(2)                                        #добаляем колонку с долей верных ответов"
   ]
  },
  {
   "cell_type": "code",
   "execution_count": 67,
   "id": "54fdc479",
   "metadata": {},
   "outputs": [
    {
     "data": {
      "text/html": [
       "<div>\n",
       "<style scoped>\n",
       "    .dataframe tbody tr th:only-of-type {\n",
       "        vertical-align: middle;\n",
       "    }\n",
       "\n",
       "    .dataframe tbody tr th {\n",
       "        vertical-align: top;\n",
       "    }\n",
       "\n",
       "    .dataframe thead th {\n",
       "        text-align: right;\n",
       "    }\n",
       "</style>\n",
       "<table border=\"1\" class=\"dataframe\">\n",
       "  <thead>\n",
       "    <tr style=\"text-align: right;\">\n",
       "      <th></th>\n",
       "      <th>user_id</th>\n",
       "      <th>days</th>\n",
       "      <th>steps_tried</th>\n",
       "      <th>correct</th>\n",
       "      <th>wrong</th>\n",
       "      <th>correct_ratio</th>\n",
       "    </tr>\n",
       "  </thead>\n",
       "  <tbody>\n",
       "    <tr>\n",
       "      <th>0</th>\n",
       "      <td>2</td>\n",
       "      <td>1</td>\n",
       "      <td>2</td>\n",
       "      <td>2</td>\n",
       "      <td>0</td>\n",
       "      <td>1.00</td>\n",
       "    </tr>\n",
       "    <tr>\n",
       "      <th>1</th>\n",
       "      <td>3</td>\n",
       "      <td>1</td>\n",
       "      <td>4</td>\n",
       "      <td>4</td>\n",
       "      <td>4</td>\n",
       "      <td>0.50</td>\n",
       "    </tr>\n",
       "    <tr>\n",
       "      <th>2</th>\n",
       "      <td>8</td>\n",
       "      <td>1</td>\n",
       "      <td>11</td>\n",
       "      <td>9</td>\n",
       "      <td>21</td>\n",
       "      <td>0.30</td>\n",
       "    </tr>\n",
       "    <tr>\n",
       "      <th>3</th>\n",
       "      <td>14</td>\n",
       "      <td>1</td>\n",
       "      <td>1</td>\n",
       "      <td>0</td>\n",
       "      <td>1</td>\n",
       "      <td>0.00</td>\n",
       "    </tr>\n",
       "    <tr>\n",
       "      <th>4</th>\n",
       "      <td>16</td>\n",
       "      <td>3</td>\n",
       "      <td>23</td>\n",
       "      <td>23</td>\n",
       "      <td>27</td>\n",
       "      <td>0.46</td>\n",
       "    </tr>\n",
       "    <tr>\n",
       "      <th>...</th>\n",
       "      <td>...</td>\n",
       "      <td>...</td>\n",
       "      <td>...</td>\n",
       "      <td>...</td>\n",
       "      <td>...</td>\n",
       "      <td>...</td>\n",
       "    </tr>\n",
       "    <tr>\n",
       "      <th>8908</th>\n",
       "      <td>26787</td>\n",
       "      <td>1</td>\n",
       "      <td>3</td>\n",
       "      <td>3</td>\n",
       "      <td>0</td>\n",
       "      <td>1.00</td>\n",
       "    </tr>\n",
       "    <tr>\n",
       "      <th>8909</th>\n",
       "      <td>26790</td>\n",
       "      <td>1</td>\n",
       "      <td>1</td>\n",
       "      <td>1</td>\n",
       "      <td>0</td>\n",
       "      <td>1.00</td>\n",
       "    </tr>\n",
       "    <tr>\n",
       "      <th>8910</th>\n",
       "      <td>26794</td>\n",
       "      <td>3</td>\n",
       "      <td>27</td>\n",
       "      <td>31</td>\n",
       "      <td>9</td>\n",
       "      <td>0.78</td>\n",
       "    </tr>\n",
       "    <tr>\n",
       "      <th>8911</th>\n",
       "      <td>26797</td>\n",
       "      <td>1</td>\n",
       "      <td>2</td>\n",
       "      <td>2</td>\n",
       "      <td>0</td>\n",
       "      <td>1.00</td>\n",
       "    </tr>\n",
       "    <tr>\n",
       "      <th>8912</th>\n",
       "      <td>26798</td>\n",
       "      <td>1</td>\n",
       "      <td>2</td>\n",
       "      <td>2</td>\n",
       "      <td>1</td>\n",
       "      <td>0.67</td>\n",
       "    </tr>\n",
       "  </tbody>\n",
       "</table>\n",
       "<p>8913 rows × 6 columns</p>\n",
       "</div>"
      ],
      "text/plain": [
       "      user_id  days  steps_tried  correct  wrong  correct_ratio\n",
       "0           2     1            2        2      0           1.00\n",
       "1           3     1            4        4      4           0.50\n",
       "2           8     1           11        9     21           0.30\n",
       "3          14     1            1        0      1           0.00\n",
       "4          16     3           23       23     27           0.46\n",
       "...       ...   ...          ...      ...    ...            ...\n",
       "8908    26787     1            3        3      0           1.00\n",
       "8909    26790     1            1        1      0           1.00\n",
       "8910    26794     3           27       31      9           0.78\n",
       "8911    26797     1            2        2      0           1.00\n",
       "8912    26798     1            2        2      1           0.67\n",
       "\n",
       "[8913 rows x 6 columns]"
      ]
     },
     "execution_count": 67,
     "metadata": {},
     "output_type": "execute_result"
    }
   ],
   "source": [
    "X"
   ]
  },
  {
   "cell_type": "code",
   "execution_count": 68,
   "id": "b860b017",
   "metadata": {},
   "outputs": [],
   "source": [
    "                                                                                        #добаляем колонку с числом просмотров курса пользователем за 3 дня\n",
    "X = X.merge(events_data_train.pivot_table(index='user_id',                               \n",
    "                                                 columns='action',\n",
    "                                                 values='step_id',\n",
    "                                                 aggfunc='count', fill_value=0).reset_index()[['user_id','viewed']], how ='outer')"
   ]
  },
  {
   "cell_type": "code",
   "execution_count": 69,
   "id": "2653b8b1",
   "metadata": {},
   "outputs": [],
   "source": [
    " X = X.fillna(0)                                                                        #меняем NaN на 0 (т.к. соединяли по outer и в events_data_train было больше строк)"
   ]
  },
  {
   "cell_type": "code",
   "execution_count": 70,
   "id": "5f144c2c",
   "metadata": {},
   "outputs": [],
   "source": [
    "X = X.merge(user_data[['user_id','passed_course', 'is_gone']], on='user_id', how='outer')          #добавляем колонки из user_data\n"
   ]
  },
  {
   "cell_type": "code",
   "execution_count": 71,
   "id": "fbfc6a4d",
   "metadata": {},
   "outputs": [],
   "source": [
    "X = X.query('passed_course==True or is_gone==True')                                     #отбираем пользователей, которые прошли курс, либо которые бросили его"
   ]
  },
  {
   "cell_type": "code",
   "execution_count": 72,
   "id": "092408f1",
   "metadata": {},
   "outputs": [
    {
     "data": {
      "text/html": [
       "<div>\n",
       "<style scoped>\n",
       "    .dataframe tbody tr th:only-of-type {\n",
       "        vertical-align: middle;\n",
       "    }\n",
       "\n",
       "    .dataframe tbody tr th {\n",
       "        vertical-align: top;\n",
       "    }\n",
       "\n",
       "    .dataframe thead th {\n",
       "        text-align: right;\n",
       "    }\n",
       "</style>\n",
       "<table border=\"1\" class=\"dataframe\">\n",
       "  <thead>\n",
       "    <tr style=\"text-align: right;\">\n",
       "      <th></th>\n",
       "      <th>user_id</th>\n",
       "      <th>days</th>\n",
       "      <th>steps_tried</th>\n",
       "      <th>correct</th>\n",
       "      <th>wrong</th>\n",
       "      <th>correct_ratio</th>\n",
       "      <th>viewed</th>\n",
       "      <th>passed_course</th>\n",
       "      <th>is_gone</th>\n",
       "    </tr>\n",
       "  </thead>\n",
       "  <tbody>\n",
       "    <tr>\n",
       "      <th>0</th>\n",
       "      <td>2</td>\n",
       "      <td>1.0</td>\n",
       "      <td>2.0</td>\n",
       "      <td>2.0</td>\n",
       "      <td>0.0</td>\n",
       "      <td>1.00</td>\n",
       "      <td>9</td>\n",
       "      <td>False</td>\n",
       "      <td>True</td>\n",
       "    </tr>\n",
       "    <tr>\n",
       "      <th>1</th>\n",
       "      <td>3</td>\n",
       "      <td>1.0</td>\n",
       "      <td>4.0</td>\n",
       "      <td>4.0</td>\n",
       "      <td>4.0</td>\n",
       "      <td>0.50</td>\n",
       "      <td>20</td>\n",
       "      <td>False</td>\n",
       "      <td>True</td>\n",
       "    </tr>\n",
       "    <tr>\n",
       "      <th>2</th>\n",
       "      <td>8</td>\n",
       "      <td>1.0</td>\n",
       "      <td>11.0</td>\n",
       "      <td>9.0</td>\n",
       "      <td>21.0</td>\n",
       "      <td>0.30</td>\n",
       "      <td>154</td>\n",
       "      <td>False</td>\n",
       "      <td>True</td>\n",
       "    </tr>\n",
       "    <tr>\n",
       "      <th>3</th>\n",
       "      <td>14</td>\n",
       "      <td>1.0</td>\n",
       "      <td>1.0</td>\n",
       "      <td>0.0</td>\n",
       "      <td>1.0</td>\n",
       "      <td>0.00</td>\n",
       "      <td>9</td>\n",
       "      <td>False</td>\n",
       "      <td>True</td>\n",
       "    </tr>\n",
       "    <tr>\n",
       "      <th>4</th>\n",
       "      <td>16</td>\n",
       "      <td>3.0</td>\n",
       "      <td>23.0</td>\n",
       "      <td>23.0</td>\n",
       "      <td>27.0</td>\n",
       "      <td>0.46</td>\n",
       "      <td>132</td>\n",
       "      <td>True</td>\n",
       "      <td>True</td>\n",
       "    </tr>\n",
       "    <tr>\n",
       "      <th>...</th>\n",
       "      <td>...</td>\n",
       "      <td>...</td>\n",
       "      <td>...</td>\n",
       "      <td>...</td>\n",
       "      <td>...</td>\n",
       "      <td>...</td>\n",
       "      <td>...</td>\n",
       "      <td>...</td>\n",
       "      <td>...</td>\n",
       "    </tr>\n",
       "    <tr>\n",
       "      <th>19229</th>\n",
       "      <td>26774</td>\n",
       "      <td>0.0</td>\n",
       "      <td>0.0</td>\n",
       "      <td>0.0</td>\n",
       "      <td>0.0</td>\n",
       "      <td>0.00</td>\n",
       "      <td>1</td>\n",
       "      <td>False</td>\n",
       "      <td>True</td>\n",
       "    </tr>\n",
       "    <tr>\n",
       "      <th>19230</th>\n",
       "      <td>26781</td>\n",
       "      <td>0.0</td>\n",
       "      <td>0.0</td>\n",
       "      <td>0.0</td>\n",
       "      <td>0.0</td>\n",
       "      <td>0.00</td>\n",
       "      <td>6</td>\n",
       "      <td>True</td>\n",
       "      <td>True</td>\n",
       "    </tr>\n",
       "    <tr>\n",
       "      <th>19231</th>\n",
       "      <td>26788</td>\n",
       "      <td>0.0</td>\n",
       "      <td>0.0</td>\n",
       "      <td>0.0</td>\n",
       "      <td>0.0</td>\n",
       "      <td>0.00</td>\n",
       "      <td>1</td>\n",
       "      <td>False</td>\n",
       "      <td>True</td>\n",
       "    </tr>\n",
       "    <tr>\n",
       "      <th>19232</th>\n",
       "      <td>26789</td>\n",
       "      <td>0.0</td>\n",
       "      <td>0.0</td>\n",
       "      <td>0.0</td>\n",
       "      <td>0.0</td>\n",
       "      <td>0.00</td>\n",
       "      <td>2</td>\n",
       "      <td>False</td>\n",
       "      <td>True</td>\n",
       "    </tr>\n",
       "    <tr>\n",
       "      <th>19233</th>\n",
       "      <td>26793</td>\n",
       "      <td>0.0</td>\n",
       "      <td>0.0</td>\n",
       "      <td>0.0</td>\n",
       "      <td>0.0</td>\n",
       "      <td>0.00</td>\n",
       "      <td>1</td>\n",
       "      <td>False</td>\n",
       "      <td>True</td>\n",
       "    </tr>\n",
       "  </tbody>\n",
       "</table>\n",
       "<p>17985 rows × 9 columns</p>\n",
       "</div>"
      ],
      "text/plain": [
       "       user_id  days  steps_tried  correct  wrong  correct_ratio  viewed  passed_course  is_gone\n",
       "0            2   1.0          2.0      2.0    0.0           1.00       9          False     True\n",
       "1            3   1.0          4.0      4.0    4.0           0.50      20          False     True\n",
       "2            8   1.0         11.0      9.0   21.0           0.30     154          False     True\n",
       "3           14   1.0          1.0      0.0    1.0           0.00       9          False     True\n",
       "4           16   3.0         23.0     23.0   27.0           0.46     132           True     True\n",
       "...        ...   ...          ...      ...    ...            ...     ...            ...      ...\n",
       "19229    26774   0.0          0.0      0.0    0.0           0.00       1          False     True\n",
       "19230    26781   0.0          0.0      0.0    0.0           0.00       6           True     True\n",
       "19231    26788   0.0          0.0      0.0    0.0           0.00       1          False     True\n",
       "19232    26789   0.0          0.0      0.0    0.0           0.00       2          False     True\n",
       "19233    26793   0.0          0.0      0.0    0.0           0.00       1          False     True\n",
       "\n",
       "[17985 rows x 9 columns]"
      ]
     },
     "execution_count": 72,
     "metadata": {},
     "output_type": "execute_result"
    }
   ],
   "source": [
    "X"
   ]
  },
  {
   "cell_type": "code",
   "execution_count": 73,
   "id": "62019464",
   "metadata": {},
   "outputs": [],
   "source": [
    "y = X.passed_course.map(int)                                                            #создаем переменную y c конвертацией значений в int, False принимает значение 0"
   ]
  },
  {
   "cell_type": "code",
   "execution_count": 74,
   "id": "b65256e2",
   "metadata": {},
   "outputs": [],
   "source": [
    "X = X.drop(['passed_course', 'is_gone'], axis=1)                                       #удаляем из X ненужные столбцы "
   ]
  },
  {
   "cell_type": "code",
   "execution_count": 75,
   "id": "e92b032a",
   "metadata": {},
   "outputs": [],
   "source": [
    "X = X.set_index(X.user_id)                                                             #делаем из колонки user_id индексы"
   ]
  },
  {
   "cell_type": "code",
   "execution_count": 76,
   "id": "9485d116",
   "metadata": {},
   "outputs": [],
   "source": [
    "X = X.drop(['user_id'], axis=1)"
   ]
  },
  {
   "cell_type": "code",
   "execution_count": 77,
   "id": "43de976f",
   "metadata": {},
   "outputs": [
    {
     "data": {
      "text/html": [
       "<div>\n",
       "<style scoped>\n",
       "    .dataframe tbody tr th:only-of-type {\n",
       "        vertical-align: middle;\n",
       "    }\n",
       "\n",
       "    .dataframe tbody tr th {\n",
       "        vertical-align: top;\n",
       "    }\n",
       "\n",
       "    .dataframe thead th {\n",
       "        text-align: right;\n",
       "    }\n",
       "</style>\n",
       "<table border=\"1\" class=\"dataframe\">\n",
       "  <thead>\n",
       "    <tr style=\"text-align: right;\">\n",
       "      <th></th>\n",
       "      <th>days</th>\n",
       "      <th>steps_tried</th>\n",
       "      <th>correct</th>\n",
       "      <th>wrong</th>\n",
       "      <th>correct_ratio</th>\n",
       "      <th>viewed</th>\n",
       "    </tr>\n",
       "    <tr>\n",
       "      <th>user_id</th>\n",
       "      <th></th>\n",
       "      <th></th>\n",
       "      <th></th>\n",
       "      <th></th>\n",
       "      <th></th>\n",
       "      <th></th>\n",
       "    </tr>\n",
       "  </thead>\n",
       "  <tbody>\n",
       "    <tr>\n",
       "      <th>2</th>\n",
       "      <td>1.0</td>\n",
       "      <td>2.0</td>\n",
       "      <td>2.0</td>\n",
       "      <td>0.0</td>\n",
       "      <td>1.00</td>\n",
       "      <td>9</td>\n",
       "    </tr>\n",
       "    <tr>\n",
       "      <th>3</th>\n",
       "      <td>1.0</td>\n",
       "      <td>4.0</td>\n",
       "      <td>4.0</td>\n",
       "      <td>4.0</td>\n",
       "      <td>0.50</td>\n",
       "      <td>20</td>\n",
       "    </tr>\n",
       "    <tr>\n",
       "      <th>8</th>\n",
       "      <td>1.0</td>\n",
       "      <td>11.0</td>\n",
       "      <td>9.0</td>\n",
       "      <td>21.0</td>\n",
       "      <td>0.30</td>\n",
       "      <td>154</td>\n",
       "    </tr>\n",
       "    <tr>\n",
       "      <th>14</th>\n",
       "      <td>1.0</td>\n",
       "      <td>1.0</td>\n",
       "      <td>0.0</td>\n",
       "      <td>1.0</td>\n",
       "      <td>0.00</td>\n",
       "      <td>9</td>\n",
       "    </tr>\n",
       "    <tr>\n",
       "      <th>16</th>\n",
       "      <td>3.0</td>\n",
       "      <td>23.0</td>\n",
       "      <td>23.0</td>\n",
       "      <td>27.0</td>\n",
       "      <td>0.46</td>\n",
       "      <td>132</td>\n",
       "    </tr>\n",
       "    <tr>\n",
       "      <th>...</th>\n",
       "      <td>...</td>\n",
       "      <td>...</td>\n",
       "      <td>...</td>\n",
       "      <td>...</td>\n",
       "      <td>...</td>\n",
       "      <td>...</td>\n",
       "    </tr>\n",
       "    <tr>\n",
       "      <th>26774</th>\n",
       "      <td>0.0</td>\n",
       "      <td>0.0</td>\n",
       "      <td>0.0</td>\n",
       "      <td>0.0</td>\n",
       "      <td>0.00</td>\n",
       "      <td>1</td>\n",
       "    </tr>\n",
       "    <tr>\n",
       "      <th>26781</th>\n",
       "      <td>0.0</td>\n",
       "      <td>0.0</td>\n",
       "      <td>0.0</td>\n",
       "      <td>0.0</td>\n",
       "      <td>0.00</td>\n",
       "      <td>6</td>\n",
       "    </tr>\n",
       "    <tr>\n",
       "      <th>26788</th>\n",
       "      <td>0.0</td>\n",
       "      <td>0.0</td>\n",
       "      <td>0.0</td>\n",
       "      <td>0.0</td>\n",
       "      <td>0.00</td>\n",
       "      <td>1</td>\n",
       "    </tr>\n",
       "    <tr>\n",
       "      <th>26789</th>\n",
       "      <td>0.0</td>\n",
       "      <td>0.0</td>\n",
       "      <td>0.0</td>\n",
       "      <td>0.0</td>\n",
       "      <td>0.00</td>\n",
       "      <td>2</td>\n",
       "    </tr>\n",
       "    <tr>\n",
       "      <th>26793</th>\n",
       "      <td>0.0</td>\n",
       "      <td>0.0</td>\n",
       "      <td>0.0</td>\n",
       "      <td>0.0</td>\n",
       "      <td>0.00</td>\n",
       "      <td>1</td>\n",
       "    </tr>\n",
       "  </tbody>\n",
       "</table>\n",
       "<p>17985 rows × 6 columns</p>\n",
       "</div>"
      ],
      "text/plain": [
       "         days  steps_tried  correct  wrong  correct_ratio  viewed\n",
       "user_id                                                          \n",
       "2         1.0          2.0      2.0    0.0           1.00       9\n",
       "3         1.0          4.0      4.0    4.0           0.50      20\n",
       "8         1.0         11.0      9.0   21.0           0.30     154\n",
       "14        1.0          1.0      0.0    1.0           0.00       9\n",
       "16        3.0         23.0     23.0   27.0           0.46     132\n",
       "...       ...          ...      ...    ...            ...     ...\n",
       "26774     0.0          0.0      0.0    0.0           0.00       1\n",
       "26781     0.0          0.0      0.0    0.0           0.00       6\n",
       "26788     0.0          0.0      0.0    0.0           0.00       1\n",
       "26789     0.0          0.0      0.0    0.0           0.00       2\n",
       "26793     0.0          0.0      0.0    0.0           0.00       1\n",
       "\n",
       "[17985 rows x 6 columns]"
      ]
     },
     "execution_count": 77,
     "metadata": {},
     "output_type": "execute_result"
    }
   ],
   "source": [
    "X"
   ]
  },
  {
   "cell_type": "code",
   "execution_count": 78,
   "id": "96c3c160",
   "metadata": {},
   "outputs": [
    {
     "data": {
      "text/plain": [
       "0        0\n",
       "1        0\n",
       "2        0\n",
       "3        0\n",
       "4        1\n",
       "        ..\n",
       "19229    0\n",
       "19230    1\n",
       "19231    0\n",
       "19232    0\n",
       "19233    0\n",
       "Name: passed_course, Length: 17985, dtype: int64"
      ]
     },
     "execution_count": 78,
     "metadata": {},
     "output_type": "execute_result"
    }
   ],
   "source": [
    "y"
   ]
  },
  {
   "cell_type": "code",
   "execution_count": 79,
   "id": "32856936",
   "metadata": {},
   "outputs": [
    {
     "data": {
      "text/plain": [
       "'Строим модели и делаем прогнозы1. Модель дерева решений'"
      ]
     },
     "execution_count": 79,
     "metadata": {},
     "output_type": "execute_result"
    }
   ],
   "source": [
    "\"\"\"Строим модели и делаем прогнозы\"\"\"         \"\"\"1. Модель дерева решений\"\"\""
   ]
  },
  {
   "cell_type": "code",
   "execution_count": 80,
   "id": "4792885f",
   "metadata": {},
   "outputs": [],
   "source": [
    "from sklearn import tree\n",
    "\n"
   ]
  },
  {
   "cell_type": "code",
   "execution_count": 81,
   "id": "2c2cb996",
   "metadata": {},
   "outputs": [],
   "source": [
    "from sklearn.model_selection import GridSearchCV, cross_val_score, train_test_split"
   ]
  },
  {
   "cell_type": "code",
   "execution_count": 82,
   "id": "fb65e3c7",
   "metadata": {},
   "outputs": [],
   "source": [
    "from sklearn.metrics import precision_score, recall_score"
   ]
  },
  {
   "cell_type": "code",
   "execution_count": 83,
   "id": "ec7a9343",
   "metadata": {},
   "outputs": [],
   "source": [
    "from sklearn import metrics"
   ]
  },
  {
   "cell_type": "code",
   "execution_count": null,
   "id": "7c0bcc49",
   "metadata": {},
   "outputs": [],
   "source": []
  },
  {
   "cell_type": "code",
   "execution_count": 84,
   "id": "058d6e01",
   "metadata": {},
   "outputs": [],
   "source": [
    "X_train,X_test,y_train,y_test = train_test_split(X,y, test_size=0.2, random_state=41)           #разделяем все данные на тренировочные и тестовые"
   ]
  },
  {
   "cell_type": "code",
   "execution_count": 85,
   "id": "9e497af8",
   "metadata": {},
   "outputs": [],
   "source": [
    "clf = tree.DecisionTreeClassifier()                                              #заготовка модели дерева без параметров"
   ]
  },
  {
   "cell_type": "code",
   "execution_count": 86,
   "id": "560e646a",
   "metadata": {},
   "outputs": [],
   "source": [
    "parameters = {'criterion':['gini', 'entropy'], 'max_depth': range(3,6), 'max_leaf_nodes':range(6,15), 'min_samples_leaf': range(1,4),'min_samples_split':range(2,5)}          #словарь подбираемых параметров и их значения"
   ]
  },
  {
   "cell_type": "code",
   "execution_count": 87,
   "id": "f918ef36",
   "metadata": {},
   "outputs": [],
   "source": [
    "grid_search_cv_clf = GridSearchCV(clf,parameters,cv=4)                          #заготовка поискового алгоритма"
   ]
  },
  {
   "cell_type": "code",
   "execution_count": 88,
   "id": "f53f86ca",
   "metadata": {},
   "outputs": [
    {
     "data": {
      "text/plain": [
       "GridSearchCV(cv=4, estimator=DecisionTreeClassifier(),\n",
       "             param_grid={'criterion': ['gini', 'entropy'],\n",
       "                         'max_depth': range(3, 6),\n",
       "                         'max_leaf_nodes': range(6, 15),\n",
       "                         'min_samples_leaf': range(1, 4),\n",
       "                         'min_samples_split': range(2, 5)})"
      ]
     },
     "execution_count": 88,
     "metadata": {},
     "output_type": "execute_result"
    }
   ],
   "source": [
    "grid_search_cv_clf.fit(X_train, y_train)                                        #ищем лучшую модель на тренировочных данных"
   ]
  },
  {
   "cell_type": "code",
   "execution_count": 89,
   "id": "a1ee2fd1",
   "metadata": {},
   "outputs": [],
   "source": [
    "model_tree = grid_search_cv_clf.best_estimator_                                 #модель дерева с лучшими параметрами"
   ]
  },
  {
   "cell_type": "code",
   "execution_count": 90,
   "id": "65b746c5",
   "metadata": {},
   "outputs": [
    {
     "data": {
      "text/plain": [
       "{'criterion': 'entropy',\n",
       " 'max_depth': 4,\n",
       " 'max_leaf_nodes': 11,\n",
       " 'min_samples_leaf': 1,\n",
       " 'min_samples_split': 2}"
      ]
     },
     "execution_count": 90,
     "metadata": {},
     "output_type": "execute_result"
    }
   ],
   "source": [
    "grid_search_cv_clf.best_params_"
   ]
  },
  {
   "cell_type": "code",
   "execution_count": 91,
   "id": "49d06aec",
   "metadata": {},
   "outputs": [
    {
     "data": {
      "text/plain": [
       "0.9220878509869336"
      ]
     },
     "execution_count": 91,
     "metadata": {},
     "output_type": "execute_result"
    }
   ],
   "source": [
    "cross_val_score(model_tree,X_train,y_train,cv=4).mean()                         #средняя точность валидации на тренировочных данных"
   ]
  },
  {
   "cell_type": "code",
   "execution_count": 92,
   "id": "fb129bf1",
   "metadata": {},
   "outputs": [
    {
     "data": {
      "text/plain": [
       "0.9271615234917987"
      ]
     },
     "execution_count": 92,
     "metadata": {},
     "output_type": "execute_result"
    }
   ],
   "source": [
    "model_tree.score(X_test, y_test)                                                #точность модели на тетсовых данных"
   ]
  },
  {
   "cell_type": "code",
   "execution_count": 93,
   "id": "4b02d4f4",
   "metadata": {},
   "outputs": [],
   "source": [
    "y_pred = model_tree.predict(X_test)                                             #прогноз по теcтовым данным"
   ]
  },
  {
   "cell_type": "code",
   "execution_count": 94,
   "id": "20f74429",
   "metadata": {},
   "outputs": [
    {
     "data": {
      "text/plain": [
       "array([0, 0, 0, ..., 0, 0, 0], dtype=int64)"
      ]
     },
     "execution_count": 94,
     "metadata": {},
     "output_type": "execute_result"
    }
   ],
   "source": [
    "y_pred"
   ]
  },
  {
   "cell_type": "code",
   "execution_count": 95,
   "id": "6dcf914d",
   "metadata": {},
   "outputs": [
    {
     "data": {
      "text/plain": [
       "0.8387096774193549"
      ]
     },
     "execution_count": 95,
     "metadata": {},
     "output_type": "execute_result"
    }
   ],
   "source": [
    "precision_score(y_test, y_pred)                             #Оценка точности модели TruePositive/(TruePositive + FalsePositive)"
   ]
  },
  {
   "cell_type": "code",
   "execution_count": 96,
   "id": "05fd41ad",
   "metadata": {},
   "outputs": [
    {
     "data": {
      "text/plain": [
       "0.09187279151943463"
      ]
     },
     "execution_count": 96,
     "metadata": {},
     "output_type": "execute_result"
    }
   ],
   "source": [
    "recall_score(y_test, y_pred)                                ##Оценка точности модели TruePositive/(TruePositive + FalseNegative)"
   ]
  },
  {
   "cell_type": "code",
   "execution_count": 97,
   "id": "16c7edd6",
   "metadata": {},
   "outputs": [],
   "source": [
    "predictions_tree = pd.DataFrame(data = y_pred, columns = ['prediction'])"
   ]
  },
  {
   "cell_type": "code",
   "execution_count": 98,
   "id": "b5315e3c",
   "metadata": {},
   "outputs": [],
   "source": [
    "X_test_tree = X_test.assign(prediction = y_pred)           ##добавили к X_test колонку с прогнозом           "
   ]
  },
  {
   "cell_type": "code",
   "execution_count": null,
   "id": "39755ece",
   "metadata": {},
   "outputs": [],
   "source": []
  },
  {
   "cell_type": "code",
   "execution_count": 99,
   "id": "60688b2c",
   "metadata": {},
   "outputs": [
    {
     "data": {
      "text/plain": [
       "'2. Логистическая Регрессия'"
      ]
     },
     "execution_count": 99,
     "metadata": {},
     "output_type": "execute_result"
    }
   ],
   "source": [
    "                            \"\"\"2. Логистическая Регрессия\"\"\""
   ]
  },
  {
   "cell_type": "code",
   "execution_count": 100,
   "id": "4df6691a",
   "metadata": {},
   "outputs": [],
   "source": [
    "from sklearn.linear_model import LogisticRegressionCV"
   ]
  },
  {
   "cell_type": "code",
   "execution_count": 101,
   "id": "d126430e",
   "metadata": {},
   "outputs": [],
   "source": [
    "clf1 = LogisticRegressionCV(cv=5)"
   ]
  },
  {
   "cell_type": "code",
   "execution_count": 102,
   "id": "783d806d",
   "metadata": {},
   "outputs": [
    {
     "data": {
      "text/plain": [
       "LogisticRegressionCV(cv=5)"
      ]
     },
     "execution_count": 102,
     "metadata": {},
     "output_type": "execute_result"
    }
   ],
   "source": [
    "clf1.fit(X_train, y_train)"
   ]
  },
  {
   "cell_type": "code",
   "execution_count": 103,
   "id": "9b5d1e20",
   "metadata": {},
   "outputs": [
    {
     "data": {
      "text/plain": [
       "0.926605504587156"
      ]
     },
     "execution_count": 103,
     "metadata": {},
     "output_type": "execute_result"
    }
   ],
   "source": [
    "clf1.score(X_test,y_test)"
   ]
  },
  {
   "cell_type": "code",
   "execution_count": 104,
   "id": "454796c0",
   "metadata": {},
   "outputs": [
    {
     "data": {
      "text/plain": [
       "0.9217403391715319"
      ]
     },
     "execution_count": 104,
     "metadata": {},
     "output_type": "execute_result"
    }
   ],
   "source": [
    "cross_val_score(clf1,X_train,y_train,cv=4).mean()"
   ]
  },
  {
   "cell_type": "code",
   "execution_count": 105,
   "id": "2c6cd373",
   "metadata": {},
   "outputs": [],
   "source": [
    "y_pred1 = clf1.predict(X_test)"
   ]
  },
  {
   "cell_type": "code",
   "execution_count": 106,
   "id": "ec087e4a",
   "metadata": {},
   "outputs": [
    {
     "data": {
      "text/plain": [
       "0.6557377049180327"
      ]
     },
     "execution_count": 106,
     "metadata": {},
     "output_type": "execute_result"
    }
   ],
   "source": [
    "precision_score(y_test, y_pred1)"
   ]
  },
  {
   "cell_type": "code",
   "execution_count": 107,
   "id": "d58aa403",
   "metadata": {},
   "outputs": [
    {
     "data": {
      "text/plain": [
       "0.1413427561837456"
      ]
     },
     "execution_count": 107,
     "metadata": {},
     "output_type": "execute_result"
    }
   ],
   "source": [
    "recall_score(y_test, y_pred1)"
   ]
  },
  {
   "cell_type": "code",
   "execution_count": null,
   "id": "4536af94",
   "metadata": {},
   "outputs": [],
   "source": []
  },
  {
   "cell_type": "code",
   "execution_count": 108,
   "id": "98cc04b6",
   "metadata": {},
   "outputs": [
    {
     "data": {
      "text/plain": [
       "'Алгоритм ближайшего соседа'"
      ]
     },
     "execution_count": 108,
     "metadata": {},
     "output_type": "execute_result"
    }
   ],
   "source": [
    "            \"\"\"Алгоритм ближайшего соседа\"\"\""
   ]
  },
  {
   "cell_type": "code",
   "execution_count": 109,
   "id": "8f384b60",
   "metadata": {},
   "outputs": [],
   "source": [
    "from sklearn.neighbors import KNeighborsClassifier"
   ]
  },
  {
   "cell_type": "code",
   "execution_count": 110,
   "id": "52121f59",
   "metadata": {},
   "outputs": [],
   "source": [
    "knn = KNeighborsClassifier()"
   ]
  },
  {
   "cell_type": "code",
   "execution_count": 111,
   "id": "3dac833b",
   "metadata": {},
   "outputs": [],
   "source": [
    "parameters = {'n_neighbors': range(15,25), 'leaf_size':range(1,7)}"
   ]
  },
  {
   "cell_type": "code",
   "execution_count": 112,
   "id": "2e0ea298",
   "metadata": {},
   "outputs": [],
   "source": [
    "grid_search_cv_knn = GridSearchCV(knn,parameters,cv=4,n_jobs=-1)"
   ]
  },
  {
   "cell_type": "code",
   "execution_count": 113,
   "id": "152ae6de",
   "metadata": {},
   "outputs": [
    {
     "data": {
      "text/plain": [
       "GridSearchCV(cv=4, estimator=KNeighborsClassifier(), n_jobs=-1,\n",
       "             param_grid={'leaf_size': range(1, 7),\n",
       "                         'n_neighbors': range(15, 25)})"
      ]
     },
     "execution_count": 113,
     "metadata": {},
     "output_type": "execute_result"
    }
   ],
   "source": [
    "grid_search_cv_knn.fit(X_train,y_train)"
   ]
  },
  {
   "cell_type": "code",
   "execution_count": 114,
   "id": "15a3178c",
   "metadata": {},
   "outputs": [],
   "source": [
    "model_knn = grid_search_cv_knn.best_estimator_"
   ]
  },
  {
   "cell_type": "code",
   "execution_count": 115,
   "id": "3426dded",
   "metadata": {},
   "outputs": [
    {
     "data": {
      "text/plain": [
       "0.920975813177648"
      ]
     },
     "execution_count": 115,
     "metadata": {},
     "output_type": "execute_result"
    }
   ],
   "source": [
    "cross_val_score(model_knn,X_train,y_train,cv=4).mean()"
   ]
  },
  {
   "cell_type": "code",
   "execution_count": 116,
   "id": "863b4e03",
   "metadata": {},
   "outputs": [],
   "source": [
    "y_pred2 = model_knn.predict(X_test)"
   ]
  },
  {
   "cell_type": "code",
   "execution_count": 117,
   "id": "5378885a",
   "metadata": {},
   "outputs": [
    {
     "data": {
      "text/plain": [
       "0.5277777777777778"
      ]
     },
     "execution_count": 117,
     "metadata": {},
     "output_type": "execute_result"
    }
   ],
   "source": [
    "precision_score(y_test, y_pred2)"
   ]
  },
  {
   "cell_type": "code",
   "execution_count": 118,
   "id": "e142f83b",
   "metadata": {},
   "outputs": [
    {
     "data": {
      "text/plain": [
       "0.06713780918727916"
      ]
     },
     "execution_count": 118,
     "metadata": {},
     "output_type": "execute_result"
    }
   ],
   "source": [
    "recall_score(y_test, y_pred2)"
   ]
  },
  {
   "cell_type": "code",
   "execution_count": 119,
   "id": "02cd4f21",
   "metadata": {},
   "outputs": [],
   "source": [
    "#Функция для расчета метрик\n",
    "def all_metrics(model, X_test, y_test):\n",
    "    observations = y_test\n",
    "    prediction = model.predict(X_test)\n",
    "\n",
    "    true_positive = np.logical_and(prediction, observations)\n",
    "    false_positive = np.logical_and(prediction, np.logical_not(observations))\n",
    "    true_negative = np.logical_and(np.logical_not(prediction), np.logical_not(observations))\n",
    "    false_negative = np.logical_and(np.logical_not(prediction), observations)\n",
    "\n",
    "    tp, fp, tn, fn = (x.sum() for x in (true_positive, false_positive, true_negative, false_negative))\n",
    "    accuracy = (tp + tn) / (tp + fp + fn + tn)\n",
    "    precision = tp / (tp + fp)\n",
    "    recall = tp / (tp + fn)\n",
    "    f1_score = 2 * (recall * precision) / (recall + precision)\n",
    "\n",
    "    print('True Positive: ', tp)\n",
    "    print('False Positive: ', fp)\n",
    "    print('True Negative: ', tn)\n",
    "    print('False Negative: ', fn)\n",
    "    print('Accuracy: ', accuracy)\n",
    "    print('Precision: ', precision)\n",
    "    print('Recall: ', recall)\n",
    "    print('F1 score: ', f1_score)\n",
    "    \n",
    "    metrics.plot_roc_curve(model, X_test, y_test)\n",
    "    metrics.plot_precision_recall_curve(model, X_test, y_test)\n",
    "    metrics.plot_confusion_matrix(model, X_test, y_test)"
   ]
  },
  {
   "cell_type": "code",
   "execution_count": null,
   "id": "104b78c1",
   "metadata": {},
   "outputs": [],
   "source": []
  },
  {
   "cell_type": "code",
   "execution_count": 120,
   "id": "b07dd6e9",
   "metadata": {},
   "outputs": [
    {
     "data": {
      "text/plain": [
       "'Подбираем лучшее соотношение recall и precision для модели knn'"
      ]
     },
     "execution_count": 120,
     "metadata": {},
     "output_type": "execute_result"
    }
   ],
   "source": [
    "\"\"\"Подбираем лучшее соотношение recall и precision для модели knn\"\"\""
   ]
  },
  {
   "cell_type": "code",
   "execution_count": 121,
   "id": "c6e1b204",
   "metadata": {},
   "outputs": [],
   "source": [
    "from sklearn.metrics import f1_score"
   ]
  },
  {
   "cell_type": "code",
   "execution_count": 122,
   "id": "13a7a2d4",
   "metadata": {},
   "outputs": [
    {
     "name": "stderr",
     "output_type": "stream",
     "text": [
      "C:\\Python38\\lib\\site-packages\\sklearn\\utils\\deprecation.py:87: FutureWarning: Function plot_roc_curve is deprecated; Function :func:`plot_roc_curve` is deprecated in 1.0 and will be removed in 1.2. Use one of the class methods: :meth:`sklearn.metric.RocCurveDisplay.from_predictions` or :meth:`sklearn.metric.RocCurveDisplay.from_estimator`.\n",
      "  warnings.warn(msg, category=FutureWarning)\n"
     ]
    },
    {
     "data": {
      "text/plain": [
       "<sklearn.metrics._plot.roc_curve.RocCurveDisplay at 0x2ac949c1790>"
      ]
     },
     "execution_count": 122,
     "metadata": {},
     "output_type": "execute_result"
    },
    {
     "data": {
      "image/png": "[encoded data removed]",
      "text/plain": [
       "<Figure size 900x600 with 1 Axes>"
      ]
     },
     "metadata": {},
     "output_type": "display_data"
    }
   ],
   "source": [
    "metrics.plot_roc_curve(model_knn, X_test, y_test)                     #строим roc Receiver operating characteristic кривую для поиска оптимального соотношения recall и presition AUC = area under the curve"
   ]
  },
  {
   "cell_type": "code",
   "execution_count": 123,
   "id": "d873be1d",
   "metadata": {},
   "outputs": [
    {
     "name": "stderr",
     "output_type": "stream",
     "text": [
      "C:\\Python38\\lib\\site-packages\\sklearn\\utils\\deprecation.py:87: FutureWarning: Function plot_precision_recall_curve is deprecated; Function `plot_precision_recall_curve` is deprecated in 1.0 and will be removed in 1.2. Use one of the class methods: PrecisionRecallDisplay.from_predictions or PrecisionRecallDisplay.from_estimator.\n",
      "  warnings.warn(msg, category=FutureWarning)\n"
     ]
    },
    {
     "data": {
      "text/plain": [
       "<sklearn.metrics._plot.precision_recall_curve.PrecisionRecallDisplay at 0x2ac94986c70>"
      ]
     },
     "execution_count": 123,
     "metadata": {},
     "output_type": "execute_result"
    },
    {
     "data": {
      "image/png": "[encoded data removed]",
      "text/plain": [
       "<Figure size 900x600 with 1 Axes>"
      ]
     },
     "metadata": {},
     "output_type": "display_data"
    }
   ],
   "source": [
    "metrics.plot_precision_recall_curve(model_knn, X_test, y_test)        #строим кривую recall-presition"
   ]
  },
  {
   "cell_type": "code",
   "execution_count": 124,
   "id": "502bac0d",
   "metadata": {},
   "outputs": [
    {
     "data": {
      "text/plain": [
       "'Тюним прогноз, чтобы добиться лучшего соотношения recall и presition'"
      ]
     },
     "execution_count": 124,
     "metadata": {},
     "output_type": "execute_result"
    }
   ],
   "source": [
    "\"\"\"Тюним прогноз, чтобы добиться лучшего соотношения recall и presition\"\"\""
   ]
  },
  {
   "cell_type": "code",
   "execution_count": 125,
   "id": "e9429fa8",
   "metadata": {},
   "outputs": [],
   "source": [
    "y_prob_knn = model_knn.predict_proba(X_test)                          #массив с вероятностями отнесения наблюдения к 0 (False passed course) или 1 классу"
   ]
  },
  {
   "cell_type": "code",
   "execution_count": 126,
   "id": "8a906ac3",
   "metadata": {},
   "outputs": [],
   "source": [
    "y_new_knn = np.where(y_prob_knn[:,0]>0.87, 0, 1)                      #делаем новый прогноз 'y'. Ставим класс 0, если вероятность в первой колонке (отнесение к классу False) y_prob больше заданного значения"
   ]
  },
  {
   "cell_type": "code",
   "execution_count": 127,
   "id": "f3421bbf",
   "metadata": {},
   "outputs": [
    {
     "data": {
      "text/plain": [
       "0.6678445229681979"
      ]
     },
     "execution_count": 127,
     "metadata": {},
     "output_type": "execute_result"
    }
   ],
   "source": [
    "recall_score(y_test, y_new_knn)"
   ]
  },
  {
   "cell_type": "code",
   "execution_count": 128,
   "id": "ff9b0cdb",
   "metadata": {},
   "outputs": [
    {
     "data": {
      "text/plain": [
       "0.2150170648464164"
      ]
     },
     "execution_count": 128,
     "metadata": {},
     "output_type": "execute_result"
    }
   ],
   "source": [
    "precision_score(y_test, y_new_knn)"
   ]
  },
  {
   "cell_type": "code",
   "execution_count": 129,
   "id": "c6f05371",
   "metadata": {},
   "outputs": [
    {
     "data": {
      "text/plain": [
       "0.3253012048192771"
      ]
     },
     "execution_count": 129,
     "metadata": {},
     "output_type": "execute_result"
    }
   ],
   "source": [
    "f1_score(y_test, y_new_knn)"
   ]
  },
  {
   "cell_type": "code",
   "execution_count": 130,
   "id": "1fa2ba3a",
   "metadata": {},
   "outputs": [
    {
     "data": {
      "text/plain": [
       "array([0.01843832, 0.07868428, 0.86833154, 0.00803861, 0.0086917 ,\n",
       "       0.01781556])"
      ]
     },
     "execution_count": 130,
     "metadata": {},
     "output_type": "execute_result"
    }
   ],
   "source": [
    "model_tree.feature_importances_"
   ]
  },
  {
   "cell_type": "code",
   "execution_count": 131,
   "id": "81c9861a",
   "metadata": {},
   "outputs": [],
   "source": [
    "model_tree_feature_importances = pd.DataFrame({'feature': X.columns, 'impotance': model_tree.feature_importances_ })"
   ]
  },
  {
   "cell_type": "code",
   "execution_count": 132,
   "id": "7555e573",
   "metadata": {},
   "outputs": [
    {
     "data": {
      "text/html": [
       "<div>\n",
       "<style scoped>\n",
       "    .dataframe tbody tr th:only-of-type {\n",
       "        vertical-align: middle;\n",
       "    }\n",
       "\n",
       "    .dataframe tbody tr th {\n",
       "        vertical-align: top;\n",
       "    }\n",
       "\n",
       "    .dataframe thead th {\n",
       "        text-align: right;\n",
       "    }\n",
       "</style>\n",
       "<table border=\"1\" class=\"dataframe\">\n",
       "  <thead>\n",
       "    <tr style=\"text-align: right;\">\n",
       "      <th></th>\n",
       "      <th>feature</th>\n",
       "      <th>impotance</th>\n",
       "    </tr>\n",
       "  </thead>\n",
       "  <tbody>\n",
       "    <tr>\n",
       "      <th>0</th>\n",
       "      <td>days</td>\n",
       "      <td>0.018438</td>\n",
       "    </tr>\n",
       "    <tr>\n",
       "      <th>1</th>\n",
       "      <td>steps_tried</td>\n",
       "      <td>0.078684</td>\n",
       "    </tr>\n",
       "    <tr>\n",
       "      <th>2</th>\n",
       "      <td>correct</td>\n",
       "      <td>0.868332</td>\n",
       "    </tr>\n",
       "    <tr>\n",
       "      <th>3</th>\n",
       "      <td>wrong</td>\n",
       "      <td>0.008039</td>\n",
       "    </tr>\n",
       "    <tr>\n",
       "      <th>4</th>\n",
       "      <td>correct_ratio</td>\n",
       "      <td>0.008692</td>\n",
       "    </tr>\n",
       "    <tr>\n",
       "      <th>5</th>\n",
       "      <td>viewed</td>\n",
       "      <td>0.017816</td>\n",
       "    </tr>\n",
       "  </tbody>\n",
       "</table>\n",
       "</div>"
      ],
      "text/plain": [
       "         feature  impotance\n",
       "0           days   0.018438\n",
       "1    steps_tried   0.078684\n",
       "2        correct   0.868332\n",
       "3          wrong   0.008039\n",
       "4  correct_ratio   0.008692\n",
       "5         viewed   0.017816"
      ]
     },
     "execution_count": 132,
     "metadata": {},
     "output_type": "execute_result"
    }
   ],
   "source": [
    "model_tree_feature_importances"
   ]
  },
  {
   "cell_type": "code",
   "execution_count": 133,
   "id": "bc40de9e",
   "metadata": {},
   "outputs": [
    {
     "data": {
      "text/plain": [
       "<AxesSubplot:ylabel='feature'>"
      ]
     },
     "execution_count": 133,
     "metadata": {},
     "output_type": "execute_result"
    },
    {
     "data": {
      "image/png": "[encoded data removed]",
      "text/plain": [
       "<Figure size 900x600 with 1 Axes>"
      ]
     },
     "metadata": {},
     "output_type": "display_data"
    }
   ],
   "source": [
    "model_tree_feature_importances.plot(kind='barh', x ='feature')"
   ]
  },
  {
   "cell_type": "code",
   "execution_count": null,
   "id": "61fc8462",
   "metadata": {},
   "outputs": [],
   "source": []
  },
  {
   "cell_type": "code",
   "execution_count": null,
   "id": "515f071e",
   "metadata": {},
   "outputs": [],
   "source": []
  }
 ],
 "metadata": {
  "kernelspec": {
   "display_name": "Python 3 (ipykernel)",
   "language": "python",
   "name": "python3"
  },
  "language_info": {
   "codemirror_mode": {
    "name": "ipython",
    "version": 3
   },
   "file_extension": ".py",
   "mimetype": "text/x-python",
   "name": "python",
   "nbconvert_exporter": "python",
   "pygments_lexer": "ipython3",
   "version": "3.10.0"
  }
 },
 "nbformat": 4,
 "nbformat_minor": 5
}
