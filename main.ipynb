{
 "cells": [
  {
   "cell_type": "code",
   "execution_count": 1,
   "id": "c9d7d7d4",
   "metadata": {
    "pycharm": {
     "is_executing": true
    }
   },
   "outputs": [],
   "source": [
    "import numpy as np\n",
    "import pandas as pd\n",
    "import seaborn as sbs\n",
    "from matplotlib.pyplot import plot as plt"
   ]
  },
  {
   "cell_type": "code",
   "execution_count": 2,
   "id": "bd27dcc8",
   "metadata": {
    "pycharm": {
     "is_executing": true
    }
   },
   "outputs": [],
   "source": [
    "pd.set_option('display.max_columns', 15)                                                    \n",
    "pd.set_option('display.width', 300)                                                         \n",
    "sbs.set(rc={'figure.figsize':(9, 6)})                                                       \n"
   ]
  },
  {
   "cell_type": "markdown",
   "id": "6e715e07",
   "metadata": {},
   "source": [
    "Задача предсказать, закончит ли студент курс \"Анализ данных в R\", анализируя  его действия за первые N дней."
   ]
  },
  {
   "cell_type": "markdown",
   "id": "3f149324",
   "metadata": {},
   "source": [
    "### 1. Подготовка данных"
   ]
  },
  {
   "cell_type": "markdown",
   "id": "1ffe0056",
   "metadata": {},
   "source": [
    "#### 1.1 Загружаем данные. Проверяем их структуру и типы"
   ]
  },
  {
   "cell_type": "code",
   "execution_count": 3,
   "id": "f00077a9",
   "metadata": {
    "scrolled": true
   },
   "outputs": [
    {
     "data": {
      "text/html": [
       "<div>\n",
       "<style scoped>\n",
       "    .dataframe tbody tr th:only-of-type {\n",
       "        vertical-align: middle;\n",
       "    }\n",
       "\n",
       "    .dataframe tbody tr th {\n",
       "        vertical-align: top;\n",
       "    }\n",
       "\n",
       "    .dataframe thead th {\n",
       "        text-align: right;\n",
       "    }\n",
       "</style>\n",
       "<table border=\"1\" class=\"dataframe\">\n",
       "  <thead>\n",
       "    <tr style=\"text-align: right;\">\n",
       "      <th></th>\n",
       "      <th>step_id</th>\n",
       "      <th>timestamp</th>\n",
       "      <th>action</th>\n",
       "      <th>user_id</th>\n",
       "    </tr>\n",
       "  </thead>\n",
       "  <tbody>\n",
       "    <tr>\n",
       "      <th>0</th>\n",
       "      <td>32815</td>\n",
       "      <td>1434340848</td>\n",
       "      <td>viewed</td>\n",
       "      <td>17632</td>\n",
       "    </tr>\n",
       "    <tr>\n",
       "      <th>1</th>\n",
       "      <td>32815</td>\n",
       "      <td>1434340848</td>\n",
       "      <td>passed</td>\n",
       "      <td>17632</td>\n",
       "    </tr>\n",
       "    <tr>\n",
       "      <th>2</th>\n",
       "      <td>32815</td>\n",
       "      <td>1434340848</td>\n",
       "      <td>discovered</td>\n",
       "      <td>17632</td>\n",
       "    </tr>\n",
       "    <tr>\n",
       "      <th>3</th>\n",
       "      <td>32811</td>\n",
       "      <td>1434340895</td>\n",
       "      <td>discovered</td>\n",
       "      <td>17632</td>\n",
       "    </tr>\n",
       "    <tr>\n",
       "      <th>4</th>\n",
       "      <td>32811</td>\n",
       "      <td>1434340895</td>\n",
       "      <td>viewed</td>\n",
       "      <td>17632</td>\n",
       "    </tr>\n",
       "  </tbody>\n",
       "</table>\n",
       "</div>"
      ],
      "text/plain": [
       "   step_id   timestamp      action  user_id\n",
       "0    32815  1434340848      viewed    17632\n",
       "1    32815  1434340848      passed    17632\n",
       "2    32815  1434340848  discovered    17632\n",
       "3    32811  1434340895  discovered    17632\n",
       "4    32811  1434340895      viewed    17632"
      ]
     },
     "execution_count": 3,
     "metadata": {},
     "output_type": "execute_result"
    }
   ],
   "source": [
    "events_data = pd.read_csv('event_data_train.csv')\n",
    "submission_data = pd.read_csv('submissions_data_train.csv')\n",
    "events_data.head(5)"
   ]
  },
  {
   "cell_type": "code",
   "execution_count": 4,
   "id": "38d01fa1",
   "metadata": {},
   "outputs": [
    {
     "data": {
      "text/plain": [
       "step_id       int64\n",
       "timestamp     int64\n",
       "action       object\n",
       "user_id       int64\n",
       "dtype: object"
      ]
     },
     "execution_count": 4,
     "metadata": {},
     "output_type": "execute_result"
    }
   ],
   "source": [
    "events_data.dtypes\n"
   ]
  },
  {
   "cell_type": "code",
   "execution_count": 5,
   "id": "bf96fd75",
   "metadata": {},
   "outputs": [
    {
     "data": {
      "text/plain": [
       "array(['viewed', 'passed', 'discovered', 'started_attempt'], dtype=object)"
      ]
     },
     "execution_count": 5,
     "metadata": {},
     "output_type": "execute_result"
    }
   ],
   "source": [
    "events_data.action.unique()                                                                "
   ]
  },
  {
   "cell_type": "markdown",
   "id": "fef5f3c1",
   "metadata": {},
   "source": [
    "Переводим Unix формата времени в стандартный date. Добавляем колонку date и day.\n",
    "Смотрим минимальную и максимальную даты наблюдений.\n"
   ]
  },
  {
   "cell_type": "code",
   "execution_count": 6,
   "id": "7f495bfb",
   "metadata": {},
   "outputs": [],
   "source": [
    "events_data = events_data.assign(date = pd.to_datetime(events_data.timestamp, unit = 's'))\n",
    "submission_data = submission_data.assign(date = pd.to_datetime(submission_data.timestamp, unit='s'))\n",
    "events_data = events_data.assign(day = events_data.date.dt.date)\n",
    "submission_data = submission_data.assign(day = submission_data.date.dt.date)"
   ]
  },
  {
   "cell_type": "code",
   "execution_count": 7,
   "id": "50a300f1",
   "metadata": {},
   "outputs": [
    {
     "data": {
      "text/plain": [
       "Timestamp('2015-06-15 04:00:48')"
      ]
     },
     "execution_count": 7,
     "metadata": {},
     "output_type": "execute_result"
    }
   ],
   "source": [
    "events_data.date.min()"
   ]
  },
  {
   "cell_type": "code",
   "execution_count": 8,
   "id": "bf5a696a",
   "metadata": {},
   "outputs": [
    {
     "data": {
      "text/plain": [
       "Timestamp('2018-05-19 23:33:31')"
      ]
     },
     "execution_count": 8,
     "metadata": {},
     "output_type": "execute_result"
    }
   ],
   "source": [
    "events_data.date.max()\n"
   ]
  },
  {
   "cell_type": "markdown",
   "id": "a00ac41b",
   "metadata": {},
   "source": [
    "Исходные данные соответствуют ожидаемым."
   ]
  },
  {
   "cell_type": "markdown",
   "id": "5836a08b",
   "metadata": {},
   "source": [
    "#### 1.2 Анализ данных"
   ]
  },
  {
   "cell_type": "markdown",
   "id": "9813b9e6",
   "metadata": {},
   "source": [
    "Для того, чтобы сформировать набор факторных переменных, от которых зависит успешность окончания курса студентом, и на которых будут обучаться модели, необходимо определить явные зависимости между входными данными. Также нужно определить, каких студентов можно считать покинувшими курс. "
   ]
  },
  {
   "cell_type": "markdown",
   "id": "a4e3d4eb",
   "metadata": {},
   "source": [
    "Посчитаем количество уникальных студентов по дням и построим график зависимости."
   ]
  },
  {
   "cell_type": "code",
   "execution_count": 9,
   "id": "5214ffdb",
   "metadata": {},
   "outputs": [
    {
     "data": {
      "text/html": [
       "<div>\n",
       "<style scoped>\n",
       "    .dataframe tbody tr th:only-of-type {\n",
       "        vertical-align: middle;\n",
       "    }\n",
       "\n",
       "    .dataframe tbody tr th {\n",
       "        vertical-align: top;\n",
       "    }\n",
       "\n",
       "    .dataframe thead th {\n",
       "        text-align: right;\n",
       "    }\n",
       "</style>\n",
       "<table border=\"1\" class=\"dataframe\">\n",
       "  <thead>\n",
       "    <tr style=\"text-align: right;\">\n",
       "      <th></th>\n",
       "      <th>day</th>\n",
       "      <th>user_id</th>\n",
       "    </tr>\n",
       "  </thead>\n",
       "  <tbody>\n",
       "    <tr>\n",
       "      <th>0</th>\n",
       "      <td>2015-06-15</td>\n",
       "      <td>705</td>\n",
       "    </tr>\n",
       "    <tr>\n",
       "      <th>1</th>\n",
       "      <td>2015-06-16</td>\n",
       "      <td>526</td>\n",
       "    </tr>\n",
       "    <tr>\n",
       "      <th>2</th>\n",
       "      <td>2015-06-17</td>\n",
       "      <td>440</td>\n",
       "    </tr>\n",
       "    <tr>\n",
       "      <th>3</th>\n",
       "      <td>2015-06-18</td>\n",
       "      <td>411</td>\n",
       "    </tr>\n",
       "    <tr>\n",
       "      <th>4</th>\n",
       "      <td>2015-06-19</td>\n",
       "      <td>377</td>\n",
       "    </tr>\n",
       "  </tbody>\n",
       "</table>\n",
       "</div>"
      ],
      "text/plain": [
       "          day  user_id\n",
       "0  2015-06-15      705\n",
       "1  2015-06-16      526\n",
       "2  2015-06-17      440\n",
       "3  2015-06-18      411\n",
       "4  2015-06-19      377"
      ]
     },
     "execution_count": 9,
     "metadata": {},
     "output_type": "execute_result"
    }
   ],
   "source": [
    "events_data.groupby('day', as_index = False).agg({'user_id':'nunique'}).head(5)            "
   ]
  },
  {
   "cell_type": "code",
   "execution_count": 10,
   "id": "d83d3702",
   "metadata": {},
   "outputs": [
    {
     "data": {
      "text/plain": [
       "<Axes: xlabel='day'>"
      ]
     },
     "execution_count": 10,
     "metadata": {},
     "output_type": "execute_result"
    },
    {
     "data": {
      "image/png": "[encoded data removed]",
      "text/plain": [
       "<Figure size 900x600 with 1 Axes>"
      ]
     },
     "metadata": {},
     "output_type": "display_data"
    }
   ],
   "source": [
    "events_data.groupby('day').agg({'user_id':'nunique'}).reset_index().plot(x='day', y='user_id')"
   ]
  },
  {
   "cell_type": "markdown",
   "id": "2c9ca06a",
   "metadata": {},
   "source": [
    "Согласно графику на старте курса число студентов, сделавших хотя бы одно действие, было почти в 3 раза выше, чем в последующие дни. Без учета стартового ажиотажа динамика числа уникальных студентов по дням положительная. "
   ]
  },
  {
   "cell_type": "markdown",
   "id": "ad783420",
   "metadata": {},
   "source": [
    "Построим диаграмму распределения числа пользователей по количеству пройденных ими степов."
   ]
  },
  {
   "cell_type": "code",
   "execution_count": 11,
   "id": "02949b47",
   "metadata": {},
   "outputs": [
    {
     "data": {
      "image/png": "[encoded data removed]",
      "text/plain": [
       "<Figure size 900x600 with 1 Axes>"
      ]
     },
     "metadata": {},
     "output_type": "display_data"
    }
   ],
   "source": [
    "events_data_passed = events_data.pivot_table(index='user_id',                                                  \n",
    "                        columns='action',                                                   \n",
    "                        values='step_id',\n",
    "                        aggfunc='count',\n",
    "                        fill_value=0).passed.hist()"
   ]
  },
  {
   "cell_type": "markdown",
   "id": "4ac8a851",
   "metadata": {},
   "source": [
    "Наибольшее снижение числа активных студентов происходит до 25 степа. Возможные причины: сложные задания на старте, начало курса не соответствует ожиданиям студентов. Будем считать студентов, прошедших 175 степов успешно завершившими курс."
   ]
  },
  {
   "cell_type": "markdown",
   "id": "5a1553d0",
   "metadata": {},
   "source": [
    "Рассчитаем число правильных и неправильных ответов каждого студента. Это соотношение может влиять на желание студента продолжать курс."
   ]
  },
  {
   "cell_type": "code",
   "execution_count": 12,
   "id": "4273b41f",
   "metadata": {},
   "outputs": [
    {
     "data": {
      "text/html": [
       "<div>\n",
       "<style scoped>\n",
       "    .dataframe tbody tr th:only-of-type {\n",
       "        vertical-align: middle;\n",
       "    }\n",
       "\n",
       "    .dataframe tbody tr th {\n",
       "        vertical-align: top;\n",
       "    }\n",
       "\n",
       "    .dataframe thead th {\n",
       "        text-align: right;\n",
       "    }\n",
       "</style>\n",
       "<table border=\"1\" class=\"dataframe\">\n",
       "  <thead>\n",
       "    <tr style=\"text-align: right;\">\n",
       "      <th>submission_status</th>\n",
       "      <th>user_id</th>\n",
       "      <th>correct</th>\n",
       "      <th>wrong</th>\n",
       "    </tr>\n",
       "  </thead>\n",
       "  <tbody>\n",
       "    <tr>\n",
       "      <th>0</th>\n",
       "      <td>2</td>\n",
       "      <td>2</td>\n",
       "      <td>0</td>\n",
       "    </tr>\n",
       "    <tr>\n",
       "      <th>1</th>\n",
       "      <td>3</td>\n",
       "      <td>29</td>\n",
       "      <td>23</td>\n",
       "    </tr>\n",
       "    <tr>\n",
       "      <th>2</th>\n",
       "      <td>5</td>\n",
       "      <td>2</td>\n",
       "      <td>2</td>\n",
       "    </tr>\n",
       "    <tr>\n",
       "      <th>3</th>\n",
       "      <td>8</td>\n",
       "      <td>9</td>\n",
       "      <td>21</td>\n",
       "    </tr>\n",
       "    <tr>\n",
       "      <th>4</th>\n",
       "      <td>14</td>\n",
       "      <td>0</td>\n",
       "      <td>1</td>\n",
       "    </tr>\n",
       "  </tbody>\n",
       "</table>\n",
       "</div>"
      ],
      "text/plain": [
       "submission_status  user_id  correct  wrong\n",
       "0                        2        2      0\n",
       "1                        3       29     23\n",
       "2                        5        2      2\n",
       "3                        8        9     21\n",
       "4                       14        0      1"
      ]
     },
     "execution_count": 12,
     "metadata": {},
     "output_type": "execute_result"
    }
   ],
   "source": [
    "users_scores = submission_data.pivot_table(index='user_id', \n",
    "                                           columns='submission_status',\n",
    "                                           values='step_id',\n",
    "                                           aggfunc='count', \n",
    "                                           fill_value=0).reset_index()\n",
    "users_scores.head(5)"
   ]
  },
  {
   "cell_type": "markdown",
   "id": "1bedcf89",
   "metadata": {},
   "source": [
    "Чтобы вычислить студентов, которых можно считать покинувшими курс с некоторой вероятностью, возьмем среднее значение перерывов между какими-либо действиями студентов на курсе. Если перерывы в действиях студента превышают среднее значение, то считаем такого студента покинувшим курс."
   ]
  },
  {
   "cell_type": "code",
   "execution_count": 13,
   "id": "34793fc8",
   "metadata": {},
   "outputs": [
    {
     "data": {
      "text/plain": [
       "True"
      ]
     },
     "execution_count": 13,
     "metadata": {},
     "output_type": "execute_result"
    }
   ],
   "source": [
    "# Проверка целостности данных (кол-во студентов совпадает в исходной и преобразованной таблицах.)\n",
    "users_scores.user_id.nunique() == submission_data.user_id.nunique() \n"
   ]
  },
  {
   "cell_type": "code",
   "execution_count": 14,
   "id": "dd7b948f",
   "metadata": {},
   "outputs": [],
   "source": [
    "events_data_passed = events_data.pivot_table(index='user_id', \n",
    "                                             columns='action',                              \n",
    "                                             values='step_id',                             \n",
    "                                             aggfunc='count', \n",
    "                                             fill_value=0).reset_index()"
   ]
  },
  {
   "cell_type": "markdown",
   "id": "b245d3cc",
   "metadata": {},
   "source": [
    "Вычисляем все разницы во времени между двумя ближайшими действиями каждого студента.\n",
    "* удаляем повторные заходы пользователя на курс в течение дня\n",
    "* группируем данные по user_id b и делаем списки со временем заходов на курс для каждого пользователя\n",
    "* создаем списки с разницей между двумя соседними значениями (перерывы между действиями на курсе)\n",
    "* объединяем в один массив данные из первых подмассивов gap_data и создаем серию\n",
    "* переводим секунды в дни"
   ]
  },
  {
   "cell_type": "code",
   "execution_count": 15,
   "id": "9ce2956b",
   "metadata": {},
   "outputs": [],
   "source": [
    "gap_data = events_data[['user_id','day','timestamp']].drop_duplicates(subset=['user_id','day'])\\\n",
    "    .groupby('user_id')['timestamp'].apply(list)\\\n",
    "    .apply(np.diff).values\n",
    "gap_data = pd.Series(np.concatenate(gap_data, axis = 0))\n",
    "gap_data = gap_data/(24*60*60) "
   ]
  },
  {
   "cell_type": "markdown",
   "id": "678baeb0",
   "metadata": {},
   "source": [
    "Построим гистограмму перерывов между заходами на курс среди пользователей с лимитом до 100 дней."
   ]
  },
  {
   "cell_type": "code",
   "execution_count": 16,
   "id": "95c74dba",
   "metadata": {},
   "outputs": [
    {
     "data": {
      "text/plain": [
       "<Axes: >"
      ]
     },
     "execution_count": 16,
     "metadata": {},
     "output_type": "execute_result"
    },
    {
     "data": {
      "image/png": "[encoded data removed]",
      "text/plain": [
       "<Figure size 900x600 with 1 Axes>"
      ]
     },
     "metadata": {},
     "output_type": "display_data"
    }
   ],
   "source": [
    "gap_data[gap_data < 100].hist()                                            "
   ]
  },
  {
   "cell_type": "code",
   "execution_count": 17,
   "id": "556dc782",
   "metadata": {},
   "outputs": [
    {
     "data": {
      "text/plain": [
       "18.325995370370403"
      ]
     },
     "execution_count": 17,
     "metadata": {},
     "output_type": "execute_result"
    }
   ],
   "source": [
    "drop_out_time = gap_data.quantile(0.90)                                    \n",
    "drop_out_time"
   ]
  },
  {
   "cell_type": "markdown",
   "id": "ddaa2480",
   "metadata": {},
   "source": [
    "Таким образом, перерывы между действиями на курсе у 90% пользователей не превышают 18 дней."
   ]
  },
  {
   "cell_type": "code",
   "execution_count": 18,
   "id": "f8cb4da4",
   "metadata": {},
   "outputs": [
    {
     "data": {
      "text/plain": [
       "59.760440972222156"
      ]
     },
     "execution_count": 18,
     "metadata": {},
     "output_type": "execute_result"
    }
   ],
   "source": [
    "drop_out_time = gap_data.quantile(0.95)                                    \n",
    "drop_out_time"
   ]
  },
  {
   "cell_type": "markdown",
   "id": "4b2ca7b0",
   "metadata": {},
   "source": [
    "Перерывы между действиями на курсе у 95 % пользователей не превышают 60 дней. Среднее значение между 90-ым и 95-ым квантилем - 30 дней. Это значение будем считать временем (drop_out), по истечение которого пользователь переводится в категорию покинувших курс. При условии, что у пользователя еще нет сертификата об окончании курса."
   ]
  },
  {
   "cell_type": "code",
   "execution_count": 19,
   "id": "8a44ffa0",
   "metadata": {},
   "outputs": [],
   "source": [
    "drop_out = 30*24*60*60"
   ]
  },
  {
   "cell_type": "markdown",
   "id": "c56c333c",
   "metadata": {},
   "source": [
    "Последняя дата наблюдений: "
   ]
  },
  {
   "cell_type": "code",
   "execution_count": 20,
   "id": "6d7bbf64",
   "metadata": {},
   "outputs": [],
   "source": [
    "now = events_data.timestamp.max() "
   ]
  },
  {
   "cell_type": "markdown",
   "id": "855a1dde",
   "metadata": {},
   "source": [
    "Найдем время последнего действия на курсе для каждого пользователя.                            "
   ]
  },
  {
   "cell_type": "code",
   "execution_count": 21,
   "id": "ec8a3950",
   "metadata": {},
   "outputs": [],
   "source": [
    "user_data = events_data.groupby('user_id', as_index=False)\\\n",
    ".agg({'timestamp':'max'}).rename(columns={'timestamp':'last_timestamp'})  "
   ]
  },
  {
   "cell_type": "markdown",
   "id": "b6eafec6",
   "metadata": {},
   "source": [
    "Сравнивая разницу между последней датой наблюдений и временем последнего действия пользователя с установленным порогом в 30 дней, распределяем пользователей по категориям активных и покинувших курс.\n",
    "                                                                             "
   ]
  },
  {
   "cell_type": "code",
   "execution_count": 22,
   "id": "45164004",
   "metadata": {},
   "outputs": [
    {
     "data": {
      "text/html": [
       "<div>\n",
       "<style scoped>\n",
       "    .dataframe tbody tr th:only-of-type {\n",
       "        vertical-align: middle;\n",
       "    }\n",
       "\n",
       "    .dataframe tbody tr th {\n",
       "        vertical-align: top;\n",
       "    }\n",
       "\n",
       "    .dataframe thead th {\n",
       "        text-align: right;\n",
       "    }\n",
       "</style>\n",
       "<table border=\"1\" class=\"dataframe\">\n",
       "  <thead>\n",
       "    <tr style=\"text-align: right;\">\n",
       "      <th></th>\n",
       "      <th>user_id</th>\n",
       "      <th>last_timestamp</th>\n",
       "      <th>is_gone</th>\n",
       "    </tr>\n",
       "  </thead>\n",
       "  <tbody>\n",
       "    <tr>\n",
       "      <th>0</th>\n",
       "      <td>1</td>\n",
       "      <td>1472827464</td>\n",
       "      <td>True</td>\n",
       "    </tr>\n",
       "    <tr>\n",
       "      <th>1</th>\n",
       "      <td>2</td>\n",
       "      <td>1519226966</td>\n",
       "      <td>True</td>\n",
       "    </tr>\n",
       "    <tr>\n",
       "      <th>2</th>\n",
       "      <td>3</td>\n",
       "      <td>1444581588</td>\n",
       "      <td>True</td>\n",
       "    </tr>\n",
       "    <tr>\n",
       "      <th>3</th>\n",
       "      <td>5</td>\n",
       "      <td>1499859939</td>\n",
       "      <td>True</td>\n",
       "    </tr>\n",
       "    <tr>\n",
       "      <th>4</th>\n",
       "      <td>7</td>\n",
       "      <td>1521634660</td>\n",
       "      <td>True</td>\n",
       "    </tr>\n",
       "  </tbody>\n",
       "</table>\n",
       "</div>"
      ],
      "text/plain": [
       "   user_id  last_timestamp  is_gone\n",
       "0        1      1472827464     True\n",
       "1        2      1519226966     True\n",
       "2        3      1444581588     True\n",
       "3        5      1499859939     True\n",
       "4        7      1521634660     True"
      ]
     },
     "execution_count": 22,
     "metadata": {},
     "output_type": "execute_result"
    }
   ],
   "source": [
    "user_data['is_gone'] = (now - user_data.last_timestamp) > drop_out\n",
    "user_data.head(5)"
   ]
  },
  {
   "cell_type": "markdown",
   "id": "4cda38af",
   "metadata": {},
   "source": [
    "Создадим сводную таблицу, в которое отобразим id пользователей, время последнего посещения курса, количество правильных и неправильных ответов, количество различных действий и число дней, проведенных на курсе."
   ]
  },
  {
   "cell_type": "code",
   "execution_count": 23,
   "id": "4bb0f65c",
   "metadata": {},
   "outputs": [
    {
     "data": {
      "text/html": [
       "<div>\n",
       "<style scoped>\n",
       "    .dataframe tbody tr th:only-of-type {\n",
       "        vertical-align: middle;\n",
       "    }\n",
       "\n",
       "    .dataframe tbody tr th {\n",
       "        vertical-align: top;\n",
       "    }\n",
       "\n",
       "    .dataframe thead th {\n",
       "        text-align: right;\n",
       "    }\n",
       "</style>\n",
       "<table border=\"1\" class=\"dataframe\">\n",
       "  <thead>\n",
       "    <tr style=\"text-align: right;\">\n",
       "      <th></th>\n",
       "      <th>user_id</th>\n",
       "      <th>last_timestamp</th>\n",
       "      <th>is_gone</th>\n",
       "      <th>correct</th>\n",
       "      <th>wrong</th>\n",
       "      <th>discovered</th>\n",
       "      <th>passed</th>\n",
       "      <th>started_attempt</th>\n",
       "      <th>viewed</th>\n",
       "      <th>day</th>\n",
       "    </tr>\n",
       "  </thead>\n",
       "  <tbody>\n",
       "    <tr>\n",
       "      <th>0</th>\n",
       "      <td>1</td>\n",
       "      <td>1472827464</td>\n",
       "      <td>True</td>\n",
       "      <td>0.0</td>\n",
       "      <td>0.0</td>\n",
       "      <td>1</td>\n",
       "      <td>0</td>\n",
       "      <td>0</td>\n",
       "      <td>1</td>\n",
       "      <td>1</td>\n",
       "    </tr>\n",
       "    <tr>\n",
       "      <th>1</th>\n",
       "      <td>2</td>\n",
       "      <td>1519226966</td>\n",
       "      <td>True</td>\n",
       "      <td>2.0</td>\n",
       "      <td>0.0</td>\n",
       "      <td>9</td>\n",
       "      <td>9</td>\n",
       "      <td>2</td>\n",
       "      <td>10</td>\n",
       "      <td>2</td>\n",
       "    </tr>\n",
       "    <tr>\n",
       "      <th>2</th>\n",
       "      <td>3</td>\n",
       "      <td>1444581588</td>\n",
       "      <td>True</td>\n",
       "      <td>29.0</td>\n",
       "      <td>23.0</td>\n",
       "      <td>91</td>\n",
       "      <td>87</td>\n",
       "      <td>30</td>\n",
       "      <td>192</td>\n",
       "      <td>7</td>\n",
       "    </tr>\n",
       "    <tr>\n",
       "      <th>3</th>\n",
       "      <td>5</td>\n",
       "      <td>1499859939</td>\n",
       "      <td>True</td>\n",
       "      <td>2.0</td>\n",
       "      <td>2.0</td>\n",
       "      <td>11</td>\n",
       "      <td>11</td>\n",
       "      <td>4</td>\n",
       "      <td>12</td>\n",
       "      <td>2</td>\n",
       "    </tr>\n",
       "    <tr>\n",
       "      <th>4</th>\n",
       "      <td>7</td>\n",
       "      <td>1521634660</td>\n",
       "      <td>True</td>\n",
       "      <td>0.0</td>\n",
       "      <td>0.0</td>\n",
       "      <td>1</td>\n",
       "      <td>1</td>\n",
       "      <td>0</td>\n",
       "      <td>1</td>\n",
       "      <td>1</td>\n",
       "    </tr>\n",
       "  </tbody>\n",
       "</table>\n",
       "</div>"
      ],
      "text/plain": [
       "   user_id  last_timestamp  is_gone  correct  wrong  discovered  passed  started_attempt  viewed  day\n",
       "0        1      1472827464     True      0.0    0.0           1       0                0       1    1\n",
       "1        2      1519226966     True      2.0    0.0           9       9                2      10    2\n",
       "2        3      1444581588     True     29.0   23.0          91      87               30     192    7\n",
       "3        5      1499859939     True      2.0    2.0          11      11                4      12    2\n",
       "4        7      1521634660     True      0.0    0.0           1       1                0       1    1"
      ]
     },
     "execution_count": 23,
     "metadata": {},
     "output_type": "execute_result"
    }
   ],
   "source": [
    "user_data = user_data.merge(users_scores, on='user_id', how='outer')\n",
    "user_data = user_data.fillna(0)\n",
    "user_data = user_data.merge(events_data_passed, how='outer')\n",
    "user_days = events_data.groupby('user_id').day.nunique().to_frame().reset_index()\n",
    "user_data = user_data.merge(user_days, on = 'user_id', how='outer')\n",
    "user_data.head(5)"
   ]
  },
  {
   "cell_type": "markdown",
   "id": "d7a9e7bf",
   "metadata": {},
   "source": [
    "Проверяем целостность данных: кол-во user_id в user_data должно совпадать с исходными данными."
   ]
  },
  {
   "cell_type": "code",
   "execution_count": 24,
   "id": "acc4467f",
   "metadata": {},
   "outputs": [
    {
     "data": {
      "text/plain": [
       "True"
      ]
     },
     "execution_count": 24,
     "metadata": {},
     "output_type": "execute_result"
    }
   ],
   "source": [
    "user_data.user_id.nunique() == events_data.user_id.nunique()                                                  "
   ]
  },
  {
   "cell_type": "markdown",
   "id": "b08c0257",
   "metadata": {},
   "source": [
    "Ранее мы определили, что студенты, прошедшие более 175 степов будут считаться успешно окончившими курс. Добавим новую колонку в user_data, где будем проверять это условие."
   ]
  },
  {
   "cell_type": "code",
   "execution_count": 25,
   "id": "99f67abd",
   "metadata": {},
   "outputs": [
    {
     "data": {
      "text/html": [
       "<div>\n",
       "<style scoped>\n",
       "    .dataframe tbody tr th:only-of-type {\n",
       "        vertical-align: middle;\n",
       "    }\n",
       "\n",
       "    .dataframe tbody tr th {\n",
       "        vertical-align: top;\n",
       "    }\n",
       "\n",
       "    .dataframe thead th {\n",
       "        text-align: right;\n",
       "    }\n",
       "</style>\n",
       "<table border=\"1\" class=\"dataframe\">\n",
       "  <thead>\n",
       "    <tr style=\"text-align: right;\">\n",
       "      <th></th>\n",
       "      <th>user_id</th>\n",
       "      <th>last_timestamp</th>\n",
       "      <th>is_gone</th>\n",
       "      <th>correct</th>\n",
       "      <th>wrong</th>\n",
       "      <th>discovered</th>\n",
       "      <th>passed</th>\n",
       "      <th>started_attempt</th>\n",
       "      <th>viewed</th>\n",
       "      <th>day</th>\n",
       "      <th>passed_course</th>\n",
       "    </tr>\n",
       "  </thead>\n",
       "  <tbody>\n",
       "    <tr>\n",
       "      <th>0</th>\n",
       "      <td>1</td>\n",
       "      <td>1472827464</td>\n",
       "      <td>True</td>\n",
       "      <td>0.0</td>\n",
       "      <td>0.0</td>\n",
       "      <td>1</td>\n",
       "      <td>0</td>\n",
       "      <td>0</td>\n",
       "      <td>1</td>\n",
       "      <td>1</td>\n",
       "      <td>False</td>\n",
       "    </tr>\n",
       "    <tr>\n",
       "      <th>1</th>\n",
       "      <td>2</td>\n",
       "      <td>1519226966</td>\n",
       "      <td>True</td>\n",
       "      <td>2.0</td>\n",
       "      <td>0.0</td>\n",
       "      <td>9</td>\n",
       "      <td>9</td>\n",
       "      <td>2</td>\n",
       "      <td>10</td>\n",
       "      <td>2</td>\n",
       "      <td>False</td>\n",
       "    </tr>\n",
       "    <tr>\n",
       "      <th>2</th>\n",
       "      <td>3</td>\n",
       "      <td>1444581588</td>\n",
       "      <td>True</td>\n",
       "      <td>29.0</td>\n",
       "      <td>23.0</td>\n",
       "      <td>91</td>\n",
       "      <td>87</td>\n",
       "      <td>30</td>\n",
       "      <td>192</td>\n",
       "      <td>7</td>\n",
       "      <td>False</td>\n",
       "    </tr>\n",
       "    <tr>\n",
       "      <th>3</th>\n",
       "      <td>5</td>\n",
       "      <td>1499859939</td>\n",
       "      <td>True</td>\n",
       "      <td>2.0</td>\n",
       "      <td>2.0</td>\n",
       "      <td>11</td>\n",
       "      <td>11</td>\n",
       "      <td>4</td>\n",
       "      <td>12</td>\n",
       "      <td>2</td>\n",
       "      <td>False</td>\n",
       "    </tr>\n",
       "    <tr>\n",
       "      <th>4</th>\n",
       "      <td>7</td>\n",
       "      <td>1521634660</td>\n",
       "      <td>True</td>\n",
       "      <td>0.0</td>\n",
       "      <td>0.0</td>\n",
       "      <td>1</td>\n",
       "      <td>1</td>\n",
       "      <td>0</td>\n",
       "      <td>1</td>\n",
       "      <td>1</td>\n",
       "      <td>False</td>\n",
       "    </tr>\n",
       "  </tbody>\n",
       "</table>\n",
       "</div>"
      ],
      "text/plain": [
       "   user_id  last_timestamp  is_gone  correct  wrong  discovered  passed  started_attempt  viewed  day  passed_course\n",
       "0        1      1472827464     True      0.0    0.0           1       0                0       1    1          False\n",
       "1        2      1519226966     True      2.0    0.0           9       9                2      10    2          False\n",
       "2        3      1444581588     True     29.0   23.0          91      87               30     192    7          False\n",
       "3        5      1499859939     True      2.0    2.0          11      11                4      12    2          False\n",
       "4        7      1521634660     True      0.0    0.0           1       1                0       1    1          False"
      ]
     },
     "execution_count": 25,
     "metadata": {},
     "output_type": "execute_result"
    }
   ],
   "source": [
    "user_data['passed_course'] = user_data.passed > 175\n",
    "user_data.head(5)"
   ]
  },
  {
   "cell_type": "markdown",
   "id": "975dd4e2",
   "metadata": {},
   "source": [
    "Для проверки адекватности преобразованных данных вычислим соотношение числа студентов прошедших и покинувших курс."
   ]
  },
  {
   "cell_type": "code",
   "execution_count": 26,
   "id": "eb9f2eda",
   "metadata": {},
   "outputs": [
    {
     "data": {
      "text/html": [
       "<div>\n",
       "<style scoped>\n",
       "    .dataframe tbody tr th:only-of-type {\n",
       "        vertical-align: middle;\n",
       "    }\n",
       "\n",
       "    .dataframe tbody tr th {\n",
       "        vertical-align: top;\n",
       "    }\n",
       "\n",
       "    .dataframe thead th {\n",
       "        text-align: right;\n",
       "    }\n",
       "</style>\n",
       "<table border=\"1\" class=\"dataframe\">\n",
       "  <thead>\n",
       "    <tr style=\"text-align: right;\">\n",
       "      <th></th>\n",
       "      <th>passed_course</th>\n",
       "      <th>user_id</th>\n",
       "      <th>last_timestamp</th>\n",
       "      <th>is_gone</th>\n",
       "      <th>correct</th>\n",
       "      <th>wrong</th>\n",
       "      <th>discovered</th>\n",
       "      <th>passed</th>\n",
       "      <th>started_attempt</th>\n",
       "      <th>viewed</th>\n",
       "      <th>day</th>\n",
       "    </tr>\n",
       "  </thead>\n",
       "  <tbody>\n",
       "    <tr>\n",
       "      <th>0</th>\n",
       "      <td>False</td>\n",
       "      <td>17844</td>\n",
       "      <td>17844</td>\n",
       "      <td>17844</td>\n",
       "      <td>17844</td>\n",
       "      <td>17844</td>\n",
       "      <td>17844</td>\n",
       "      <td>17844</td>\n",
       "      <td>17844</td>\n",
       "      <td>17844</td>\n",
       "      <td>17844</td>\n",
       "    </tr>\n",
       "    <tr>\n",
       "      <th>1</th>\n",
       "      <td>True</td>\n",
       "      <td>1390</td>\n",
       "      <td>1390</td>\n",
       "      <td>1390</td>\n",
       "      <td>1390</td>\n",
       "      <td>1390</td>\n",
       "      <td>1390</td>\n",
       "      <td>1390</td>\n",
       "      <td>1390</td>\n",
       "      <td>1390</td>\n",
       "      <td>1390</td>\n",
       "    </tr>\n",
       "  </tbody>\n",
       "</table>\n",
       "</div>"
      ],
      "text/plain": [
       "   passed_course  user_id  last_timestamp  is_gone  correct  wrong  discovered  passed  started_attempt  viewed    day\n",
       "0          False    17844           17844    17844    17844  17844       17844   17844            17844   17844  17844\n",
       "1           True     1390            1390     1390     1390   1390        1390    1390             1390    1390   1390"
      ]
     },
     "execution_count": 26,
     "metadata": {},
     "output_type": "execute_result"
    }
   ],
   "source": [
    "user_data.groupby('passed_course').count().reset_index()                      "
   ]
  },
  {
   "cell_type": "code",
   "execution_count": 27,
   "id": "591fba36",
   "metadata": {},
   "outputs": [
    {
     "data": {
      "text/plain": [
       "7.789733243667339"
      ]
     },
     "execution_count": 27,
     "metadata": {},
     "output_type": "execute_result"
    }
   ],
   "source": [
    "100 * 1390 / 17844"
   ]
  },
  {
   "cell_type": "markdown",
   "id": "a114a512",
   "metadata": {},
   "source": [
    "Приблизительно 8% студентов успешно заканчивают курс. Значение находится на уровне средних значений в индустрии онлайн-обучения."
   ]
  },
  {
   "cell_type": "markdown",
   "id": "8d5f9ae6",
   "metadata": {},
   "source": [
    "#### 1.3 Формулировка гипотезы"
   ]
  },
  {
   "cell_type": "markdown",
   "id": "83ac14c0",
   "metadata": {},
   "source": [
    "Вычислим медиану количества учебных дней студентов, успешно закончивших курс."
   ]
  },
  {
   "cell_type": "code",
   "execution_count": 28,
   "id": "50dd7851",
   "metadata": {},
   "outputs": [
    {
     "data": {
      "text/plain": [
       "21.0"
      ]
     },
     "execution_count": 28,
     "metadata": {},
     "output_type": "execute_result"
    }
   ],
   "source": [
    "day_median = user_data[user_data.passed_course == True].day.median()\n",
    "day_median"
   ]
  },
  {
   "cell_type": "markdown",
   "id": "5d9ca2b8",
   "metadata": {},
   "source": [
    "Половина закончивших курс студентов занималась менее 21 дня. Выясним, можно ли по поведению пользователя за первые 3 дня (learning_day) предсказать, закончит ли он курс."
   ]
  },
  {
   "cell_type": "code",
   "execution_count": 29,
   "id": "a338faf7",
   "metadata": {},
   "outputs": [],
   "source": [
    "learning_day = 3*24*60*60   "
   ]
  },
  {
   "cell_type": "markdown",
   "id": "9659752f",
   "metadata": {},
   "source": [
    "Вычислим время начала курса для каждого пользователя и добавим это время в таблицу user_data. В другую колонку добавляем в время равное 3 дням обучения с начала курса min_timestamp + learning_day.\n"
   ]
  },
  {
   "cell_type": "code",
   "execution_count": 30,
   "id": "3a1b7771",
   "metadata": {},
   "outputs": [
    {
     "data": {
      "text/html": [
       "<div>\n",
       "<style scoped>\n",
       "    .dataframe tbody tr th:only-of-type {\n",
       "        vertical-align: middle;\n",
       "    }\n",
       "\n",
       "    .dataframe tbody tr th {\n",
       "        vertical-align: top;\n",
       "    }\n",
       "\n",
       "    .dataframe thead th {\n",
       "        text-align: right;\n",
       "    }\n",
       "</style>\n",
       "<table border=\"1\" class=\"dataframe\">\n",
       "  <thead>\n",
       "    <tr style=\"text-align: right;\">\n",
       "      <th></th>\n",
       "      <th>user_id</th>\n",
       "      <th>last_timestamp</th>\n",
       "      <th>is_gone</th>\n",
       "      <th>correct</th>\n",
       "      <th>wrong</th>\n",
       "      <th>discovered</th>\n",
       "      <th>passed</th>\n",
       "      <th>started_attempt</th>\n",
       "      <th>viewed</th>\n",
       "      <th>day</th>\n",
       "      <th>passed_course</th>\n",
       "      <th>min_timestamp</th>\n",
       "      <th>min_time + 3days</th>\n",
       "    </tr>\n",
       "  </thead>\n",
       "  <tbody>\n",
       "    <tr>\n",
       "      <th>0</th>\n",
       "      <td>1</td>\n",
       "      <td>1472827464</td>\n",
       "      <td>True</td>\n",
       "      <td>0.0</td>\n",
       "      <td>0.0</td>\n",
       "      <td>1</td>\n",
       "      <td>0</td>\n",
       "      <td>0</td>\n",
       "      <td>1</td>\n",
       "      <td>1</td>\n",
       "      <td>False</td>\n",
       "      <td>1472827464</td>\n",
       "      <td>1473086664</td>\n",
       "    </tr>\n",
       "    <tr>\n",
       "      <th>1</th>\n",
       "      <td>2</td>\n",
       "      <td>1519226966</td>\n",
       "      <td>True</td>\n",
       "      <td>2.0</td>\n",
       "      <td>0.0</td>\n",
       "      <td>9</td>\n",
       "      <td>9</td>\n",
       "      <td>2</td>\n",
       "      <td>10</td>\n",
       "      <td>2</td>\n",
       "      <td>False</td>\n",
       "      <td>1514383364</td>\n",
       "      <td>1514642564</td>\n",
       "    </tr>\n",
       "    <tr>\n",
       "      <th>2</th>\n",
       "      <td>3</td>\n",
       "      <td>1444581588</td>\n",
       "      <td>True</td>\n",
       "      <td>29.0</td>\n",
       "      <td>23.0</td>\n",
       "      <td>91</td>\n",
       "      <td>87</td>\n",
       "      <td>30</td>\n",
       "      <td>192</td>\n",
       "      <td>7</td>\n",
       "      <td>False</td>\n",
       "      <td>1434358476</td>\n",
       "      <td>1434617676</td>\n",
       "    </tr>\n",
       "    <tr>\n",
       "      <th>3</th>\n",
       "      <td>5</td>\n",
       "      <td>1499859939</td>\n",
       "      <td>True</td>\n",
       "      <td>2.0</td>\n",
       "      <td>2.0</td>\n",
       "      <td>11</td>\n",
       "      <td>11</td>\n",
       "      <td>4</td>\n",
       "      <td>12</td>\n",
       "      <td>2</td>\n",
       "      <td>False</td>\n",
       "      <td>1466156809</td>\n",
       "      <td>1466416009</td>\n",
       "    </tr>\n",
       "    <tr>\n",
       "      <th>4</th>\n",
       "      <td>7</td>\n",
       "      <td>1521634660</td>\n",
       "      <td>True</td>\n",
       "      <td>0.0</td>\n",
       "      <td>0.0</td>\n",
       "      <td>1</td>\n",
       "      <td>1</td>\n",
       "      <td>0</td>\n",
       "      <td>1</td>\n",
       "      <td>1</td>\n",
       "      <td>False</td>\n",
       "      <td>1521634660</td>\n",
       "      <td>1521893860</td>\n",
       "    </tr>\n",
       "  </tbody>\n",
       "</table>\n",
       "</div>"
      ],
      "text/plain": [
       "   user_id  last_timestamp  is_gone  correct  wrong  discovered  passed  started_attempt  viewed  day  passed_course  min_timestamp  min_time + 3days\n",
       "0        1      1472827464     True      0.0    0.0           1       0                0       1    1          False     1472827464        1473086664\n",
       "1        2      1519226966     True      2.0    0.0           9       9                2      10    2          False     1514383364        1514642564\n",
       "2        3      1444581588     True     29.0   23.0          91      87               30     192    7          False     1434358476        1434617676\n",
       "3        5      1499859939     True      2.0    2.0          11      11                4      12    2          False     1466156809        1466416009\n",
       "4        7      1521634660     True      0.0    0.0           1       1                0       1    1          False     1521634660        1521893860"
      ]
     },
     "execution_count": 30,
     "metadata": {},
     "output_type": "execute_result"
    }
   ],
   "source": [
    "user_min_time = events_data.groupby('user_id', as_index=False)\\\n",
    "    .agg({'timestamp':'min'}).rename({'timestamp':'min_timestamp'}, axis=1)\n",
    "user_data = user_data.merge(user_min_time, how='outer')\n",
    "user_data['min_time + 3days'] = user_data.min_timestamp + learning_day \n",
    "user_data.head(5)"
   ]
  },
  {
   "cell_type": "markdown",
   "id": "0b4755f5",
   "metadata": {},
   "source": [
    "Выберем действия каждого студента в первые три дня его занятий из таблицы events_data."
   ]
  },
  {
   "cell_type": "code",
   "execution_count": 31,
   "id": "18e3ef1f",
   "metadata": {},
   "outputs": [
    {
     "data": {
      "text/html": [
       "<div>\n",
       "<style scoped>\n",
       "    .dataframe tbody tr th:only-of-type {\n",
       "        vertical-align: middle;\n",
       "    }\n",
       "\n",
       "    .dataframe tbody tr th {\n",
       "        vertical-align: top;\n",
       "    }\n",
       "\n",
       "    .dataframe thead th {\n",
       "        text-align: right;\n",
       "    }\n",
       "</style>\n",
       "<table border=\"1\" class=\"dataframe\">\n",
       "  <thead>\n",
       "    <tr style=\"text-align: right;\">\n",
       "      <th></th>\n",
       "      <th>step_id</th>\n",
       "      <th>timestamp</th>\n",
       "      <th>action</th>\n",
       "      <th>user_id</th>\n",
       "      <th>date</th>\n",
       "      <th>day</th>\n",
       "      <th>min_time + 3days</th>\n",
       "    </tr>\n",
       "  </thead>\n",
       "  <tbody>\n",
       "    <tr>\n",
       "      <th>0</th>\n",
       "      <td>32815</td>\n",
       "      <td>1434340848</td>\n",
       "      <td>viewed</td>\n",
       "      <td>17632</td>\n",
       "      <td>2015-06-15 04:00:48</td>\n",
       "      <td>2015-06-15</td>\n",
       "      <td>1434600048</td>\n",
       "    </tr>\n",
       "    <tr>\n",
       "      <th>1</th>\n",
       "      <td>32815</td>\n",
       "      <td>1434340848</td>\n",
       "      <td>passed</td>\n",
       "      <td>17632</td>\n",
       "      <td>2015-06-15 04:00:48</td>\n",
       "      <td>2015-06-15</td>\n",
       "      <td>1434600048</td>\n",
       "    </tr>\n",
       "    <tr>\n",
       "      <th>2</th>\n",
       "      <td>32815</td>\n",
       "      <td>1434340848</td>\n",
       "      <td>discovered</td>\n",
       "      <td>17632</td>\n",
       "      <td>2015-06-15 04:00:48</td>\n",
       "      <td>2015-06-15</td>\n",
       "      <td>1434600048</td>\n",
       "    </tr>\n",
       "    <tr>\n",
       "      <th>3</th>\n",
       "      <td>32811</td>\n",
       "      <td>1434340895</td>\n",
       "      <td>discovered</td>\n",
       "      <td>17632</td>\n",
       "      <td>2015-06-15 04:01:35</td>\n",
       "      <td>2015-06-15</td>\n",
       "      <td>1434600048</td>\n",
       "    </tr>\n",
       "    <tr>\n",
       "      <th>4</th>\n",
       "      <td>32811</td>\n",
       "      <td>1434340895</td>\n",
       "      <td>viewed</td>\n",
       "      <td>17632</td>\n",
       "      <td>2015-06-15 04:01:35</td>\n",
       "      <td>2015-06-15</td>\n",
       "      <td>1434600048</td>\n",
       "    </tr>\n",
       "  </tbody>\n",
       "</table>\n",
       "</div>"
      ],
      "text/plain": [
       "   step_id   timestamp      action  user_id                date         day  min_time + 3days\n",
       "0    32815  1434340848      viewed    17632 2015-06-15 04:00:48  2015-06-15        1434600048\n",
       "1    32815  1434340848      passed    17632 2015-06-15 04:00:48  2015-06-15        1434600048\n",
       "2    32815  1434340848  discovered    17632 2015-06-15 04:00:48  2015-06-15        1434600048\n",
       "3    32811  1434340895  discovered    17632 2015-06-15 04:01:35  2015-06-15        1434600048\n",
       "4    32811  1434340895      viewed    17632 2015-06-15 04:01:35  2015-06-15        1434600048"
      ]
     },
     "execution_count": 31,
     "metadata": {},
     "output_type": "execute_result"
    }
   ],
   "source": [
    "user_data_temp = user_data[['user_id','min_time + 3days']]    \n",
    "events_data_temp = events_data.merge(user_data_temp, on = 'user_id', how = 'outer')\n",
    "events_data_train = events_data_temp[events_data_temp['timestamp'] <= events_data_temp['min_time + 3days']]\n",
    "events_data_train.head(5)"
   ]
  },
  {
   "cell_type": "markdown",
   "id": "e3526ca9",
   "metadata": {},
   "source": [
    "Проверим, что в полученной таблице максимальное число дней, которое занимались студенты , не более 4."
   ]
  },
  {
   "cell_type": "code",
   "execution_count": 32,
   "id": "5363d7cc",
   "metadata": {},
   "outputs": [
    {
     "data": {
      "text/plain": [
       "day    4\n",
       "dtype: int64"
      ]
     },
     "execution_count": 32,
     "metadata": {},
     "output_type": "execute_result"
    }
   ],
   "source": [
    "events_data_train.groupby('user_id').agg({'day':'nunique'}).max()                          "
   ]
  },
  {
   "cell_type": "markdown",
   "id": "fdd82705",
   "metadata": {},
   "source": [
    "Выберем данные студента в первые три дня его занятий из таблицы submission_data.\n"
   ]
  },
  {
   "cell_type": "code",
   "execution_count": 33,
   "id": "2498f52e",
   "metadata": {},
   "outputs": [
    {
     "data": {
      "text/html": [
       "<div>\n",
       "<style scoped>\n",
       "    .dataframe tbody tr th:only-of-type {\n",
       "        vertical-align: middle;\n",
       "    }\n",
       "\n",
       "    .dataframe tbody tr th {\n",
       "        vertical-align: top;\n",
       "    }\n",
       "\n",
       "    .dataframe thead th {\n",
       "        text-align: right;\n",
       "    }\n",
       "</style>\n",
       "<table border=\"1\" class=\"dataframe\">\n",
       "  <thead>\n",
       "    <tr style=\"text-align: right;\">\n",
       "      <th></th>\n",
       "      <th>step_id</th>\n",
       "      <th>timestamp</th>\n",
       "      <th>submission_status</th>\n",
       "      <th>user_id</th>\n",
       "      <th>date</th>\n",
       "      <th>day</th>\n",
       "      <th>min_time + 3days</th>\n",
       "    </tr>\n",
       "  </thead>\n",
       "  <tbody>\n",
       "    <tr>\n",
       "      <th>0</th>\n",
       "      <td>31971.0</td>\n",
       "      <td>1.434349e+09</td>\n",
       "      <td>correct</td>\n",
       "      <td>15853</td>\n",
       "      <td>2015-06-15 06:21:15</td>\n",
       "      <td>2015-06-15</td>\n",
       "      <td>1434605177</td>\n",
       "    </tr>\n",
       "    <tr>\n",
       "      <th>1</th>\n",
       "      <td>31972.0</td>\n",
       "      <td>1.434348e+09</td>\n",
       "      <td>correct</td>\n",
       "      <td>15853</td>\n",
       "      <td>2015-06-15 06:05:00</td>\n",
       "      <td>2015-06-15</td>\n",
       "      <td>1434605177</td>\n",
       "    </tr>\n",
       "    <tr>\n",
       "      <th>4</th>\n",
       "      <td>31976.0</td>\n",
       "      <td>1.434348e+09</td>\n",
       "      <td>wrong</td>\n",
       "      <td>15853</td>\n",
       "      <td>2015-06-15 06:02:03</td>\n",
       "      <td>2015-06-15</td>\n",
       "      <td>1434605177</td>\n",
       "    </tr>\n",
       "    <tr>\n",
       "      <th>5</th>\n",
       "      <td>31976.0</td>\n",
       "      <td>1.434348e+09</td>\n",
       "      <td>correct</td>\n",
       "      <td>15853</td>\n",
       "      <td>2015-06-15 06:03:08</td>\n",
       "      <td>2015-06-15</td>\n",
       "      <td>1434605177</td>\n",
       "    </tr>\n",
       "    <tr>\n",
       "      <th>7</th>\n",
       "      <td>31977.0</td>\n",
       "      <td>1.434347e+09</td>\n",
       "      <td>correct</td>\n",
       "      <td>15853</td>\n",
       "      <td>2015-06-15 05:49:31</td>\n",
       "      <td>2015-06-15</td>\n",
       "      <td>1434605177</td>\n",
       "    </tr>\n",
       "  </tbody>\n",
       "</table>\n",
       "</div>"
      ],
      "text/plain": [
       "   step_id     timestamp submission_status  user_id                date         day  min_time + 3days\n",
       "0  31971.0  1.434349e+09           correct    15853 2015-06-15 06:21:15  2015-06-15        1434605177\n",
       "1  31972.0  1.434348e+09           correct    15853 2015-06-15 06:05:00  2015-06-15        1434605177\n",
       "4  31976.0  1.434348e+09             wrong    15853 2015-06-15 06:02:03  2015-06-15        1434605177\n",
       "5  31976.0  1.434348e+09           correct    15853 2015-06-15 06:03:08  2015-06-15        1434605177\n",
       "7  31977.0  1.434347e+09           correct    15853 2015-06-15 05:49:31  2015-06-15        1434605177"
      ]
     },
     "execution_count": 33,
     "metadata": {},
     "output_type": "execute_result"
    }
   ],
   "source": [
    "submission_data_temp = submission_data.merge(user_data_temp, on = 'user_id', how = 'outer')\n",
    "submission_data_train = submission_data_temp[submission_data_temp['timestamp'] <= submission_data_temp['min_time + 3days']]\n",
    "submission_data_train.head(5)"
   ]
  },
  {
   "cell_type": "code",
   "execution_count": 34,
   "id": "6c7d3cfb",
   "metadata": {},
   "outputs": [
    {
     "data": {
      "text/plain": [
       "day    4\n",
       "dtype: int64"
      ]
     },
     "execution_count": 34,
     "metadata": {},
     "output_type": "execute_result"
    }
   ],
   "source": [
    "submission_data_train.groupby('user_id').agg({'day':'nunique'}).max()"
   ]
  },
  {
   "cell_type": "markdown",
   "id": "ba066558",
   "metadata": {},
   "source": [
    "### 2. Формируем данные для обучения моделей"
   ]
  },
  {
   "cell_type": "markdown",
   "id": "2c59f63e",
   "metadata": {},
   "source": [
    "Полученные таблицы submission_data_train и events_data_train позволяют сформировать факторные переменные X и целевую переменную y, на основе которых будем обучать модели.\n",
    "\n",
    "\n",
    "\n",
    "\n",
    "\n"
   ]
  },
  {
   "cell_type": "code",
   "execution_count": 35,
   "id": "0e1abff3",
   "metadata": {},
   "outputs": [],
   "source": [
    "# Число уникальных дней пользователя на курсе\n",
    "X = submission_data_train.groupby('user_id').day.nunique().to_frame().reset_index().rename(columns={'day':'days'})\n",
    "\n",
    "# Кол-во уникальных степов, которые проходил пользователь\n",
    "steps_tried = submission_data_train.groupby('user_id').step_id.nunique()\\\n",
    "    .to_frame().reset_index().rename(columns={'step_id':'steps_tried'})\n",
    "X = X.merge(steps_tried, on='user_id', how='outer')\n",
    "\n",
    "# Числом правильных и неправильных ответов пользователя\n",
    "X = X.merge(submission_data_train.pivot_table(index='user_id',                               \n",
    "                                                 columns='submission_status',\n",
    "                                                 values='step_id',\n",
    "                                                 aggfunc='count', fill_value=0).reset_index())\n",
    "\n",
    "# Доля верных ответов\n",
    "X['correct_ratio'] = (X.correct/(X.correct + X.wrong)).round(2)\n",
    "\n",
    "# Число различных действий пользователя\n",
    "X = X.merge(events_data_train.pivot_table(index='user_id',                               \n",
    "                                                 columns='action',\n",
    "                                                 values='step_id',\n",
    "                                                 aggfunc='count', fill_value=0).reset_index()[['user_id','viewed']], how ='outer')\n",
    "\n",
    "X = X.fillna(0)\n",
    "\n",
    "# Добавляем колонки из user_data\n",
    "X = X.merge(user_data[['user_id','passed_course', 'is_gone']], on='user_id', how='outer')"
   ]
  },
  {
   "cell_type": "markdown",
   "id": "aa068b20",
   "metadata": {},
   "source": [
    "Отбираем пользователей, которые прошли курс, либо которые ещё его проходят (не бросили).                                                                       "
   ]
  },
  {
   "cell_type": "code",
   "execution_count": 36,
   "id": "fbfc6a4d",
   "metadata": {},
   "outputs": [],
   "source": [
    "X = X.query('passed_course==True or is_gone==True')"
   ]
  },
  {
   "cell_type": "markdown",
   "id": "685955ad",
   "metadata": {},
   "source": [
    "Выбираем целевую переменную y и удаляем эту колонку из X."
   ]
  },
  {
   "cell_type": "code",
   "execution_count": 37,
   "id": "62019464",
   "metadata": {},
   "outputs": [],
   "source": [
    "y = X.passed_course.map(int)\n",
    "X = X.drop(['passed_course', 'is_gone'], axis=1)  "
   ]
  },
  {
   "cell_type": "markdown",
   "id": "78f9bbf0",
   "metadata": {},
   "source": [
    "Так как user_id не является факторной переменной, то делаем из этой колонки индексы."
   ]
  },
  {
   "cell_type": "code",
   "execution_count": 38,
   "id": "e92b032a",
   "metadata": {},
   "outputs": [],
   "source": [
    "X = X.set_index(X.user_id)\n",
    "X = X.drop(['user_id'], axis=1)"
   ]
  },
  {
   "cell_type": "code",
   "execution_count": 39,
   "id": "ccd6b5f8",
   "metadata": {},
   "outputs": [
    {
     "data": {
      "text/html": [
       "<div>\n",
       "<style scoped>\n",
       "    .dataframe tbody tr th:only-of-type {\n",
       "        vertical-align: middle;\n",
       "    }\n",
       "\n",
       "    .dataframe tbody tr th {\n",
       "        vertical-align: top;\n",
       "    }\n",
       "\n",
       "    .dataframe thead th {\n",
       "        text-align: right;\n",
       "    }\n",
       "</style>\n",
       "<table border=\"1\" class=\"dataframe\">\n",
       "  <thead>\n",
       "    <tr style=\"text-align: right;\">\n",
       "      <th></th>\n",
       "      <th>days</th>\n",
       "      <th>steps_tried</th>\n",
       "      <th>correct</th>\n",
       "      <th>wrong</th>\n",
       "      <th>correct_ratio</th>\n",
       "      <th>viewed</th>\n",
       "    </tr>\n",
       "    <tr>\n",
       "      <th>user_id</th>\n",
       "      <th></th>\n",
       "      <th></th>\n",
       "      <th></th>\n",
       "      <th></th>\n",
       "      <th></th>\n",
       "      <th></th>\n",
       "    </tr>\n",
       "  </thead>\n",
       "  <tbody>\n",
       "    <tr>\n",
       "      <th>2</th>\n",
       "      <td>1.0</td>\n",
       "      <td>2.0</td>\n",
       "      <td>2.0</td>\n",
       "      <td>0.0</td>\n",
       "      <td>1.00</td>\n",
       "      <td>9</td>\n",
       "    </tr>\n",
       "    <tr>\n",
       "      <th>3</th>\n",
       "      <td>1.0</td>\n",
       "      <td>4.0</td>\n",
       "      <td>4.0</td>\n",
       "      <td>4.0</td>\n",
       "      <td>0.50</td>\n",
       "      <td>20</td>\n",
       "    </tr>\n",
       "    <tr>\n",
       "      <th>8</th>\n",
       "      <td>1.0</td>\n",
       "      <td>11.0</td>\n",
       "      <td>9.0</td>\n",
       "      <td>21.0</td>\n",
       "      <td>0.30</td>\n",
       "      <td>154</td>\n",
       "    </tr>\n",
       "    <tr>\n",
       "      <th>14</th>\n",
       "      <td>1.0</td>\n",
       "      <td>1.0</td>\n",
       "      <td>0.0</td>\n",
       "      <td>1.0</td>\n",
       "      <td>0.00</td>\n",
       "      <td>9</td>\n",
       "    </tr>\n",
       "    <tr>\n",
       "      <th>16</th>\n",
       "      <td>3.0</td>\n",
       "      <td>23.0</td>\n",
       "      <td>23.0</td>\n",
       "      <td>27.0</td>\n",
       "      <td>0.46</td>\n",
       "      <td>132</td>\n",
       "    </tr>\n",
       "  </tbody>\n",
       "</table>\n",
       "</div>"
      ],
      "text/plain": [
       "         days  steps_tried  correct  wrong  correct_ratio  viewed\n",
       "user_id                                                          \n",
       "2         1.0          2.0      2.0    0.0           1.00       9\n",
       "3         1.0          4.0      4.0    4.0           0.50      20\n",
       "8         1.0         11.0      9.0   21.0           0.30     154\n",
       "14        1.0          1.0      0.0    1.0           0.00       9\n",
       "16        3.0         23.0     23.0   27.0           0.46     132"
      ]
     },
     "execution_count": 39,
     "metadata": {},
     "output_type": "execute_result"
    }
   ],
   "source": [
    "X.head(5)"
   ]
  },
  {
   "cell_type": "markdown",
   "id": "6704025f",
   "metadata": {},
   "source": [
    "Таким образом, получили таблицу с факторными переменными X, которые отражают поведение пользователя в первые три дня обучения на курсе. И таблицу с целевой переменной y, которая показывает, закончил ли студент курс или нет. "
   ]
  },
  {
   "cell_type": "markdown",
   "id": "c9848f0d",
   "metadata": {},
   "source": [
    "###  3. Обучение моделей и прогнозирование"
   ]
  },
  {
   "cell_type": "code",
   "execution_count": 40,
   "id": "2c2cb996",
   "metadata": {},
   "outputs": [],
   "source": [
    "from sklearn.model_selection import GridSearchCV, cross_val_score, train_test_split\n",
    "from sklearn.metrics import precision_score, recall_score, f1_score\n",
    "from sklearn import metrics\n",
    "from sklearn import tree"
   ]
  },
  {
   "cell_type": "markdown",
   "id": "1e81dc5e",
   "metadata": {},
   "source": [
    "#### 3.1 Дерево решений"
   ]
  },
  {
   "cell_type": "markdown",
   "id": "96fd2f20",
   "metadata": {},
   "source": [
    "Разобьем тренировочный датасэт на значения для тренировки и тестирования модели в соотношении 20/80."
   ]
  },
  {
   "cell_type": "code",
   "execution_count": 41,
   "id": "058d6e01",
   "metadata": {},
   "outputs": [],
   "source": [
    "X_train, X_test, y_train, y_test = train_test_split(X,y, test_size=0.2, random_state=41)           "
   ]
  },
  {
   "cell_type": "code",
   "execution_count": 42,
   "id": "9e497af8",
   "metadata": {},
   "outputs": [
    {
     "data": {
      "text/plain": [
       "{'criterion': 'entropy',\n",
       " 'max_depth': 5,\n",
       " 'max_leaf_nodes': 12,\n",
       " 'min_samples_leaf': 1,\n",
       " 'min_samples_split': 2}"
      ]
     },
     "execution_count": 42,
     "metadata": {},
     "output_type": "execute_result"
    }
   ],
   "source": [
    "# Создадим заготовку модели дерева решений без параметров\n",
    "clf = tree.DecisionTreeClassifier()\n",
    "\n",
    "# Создаим словарь параметров дерева и диапазон их значений\n",
    "parameters = {'criterion':['gini', 'entropy'], 'max_depth': range(3,6), 'max_leaf_nodes':range(6,15), 'min_samples_leaf': range(1,4),'min_samples_split':range(2,5)}\n",
    "\n",
    "# Заготовка поискового алгоритма\n",
    "grid_search_cv_clf = GridSearchCV(clf, parameters, cv=4)\n",
    "\n",
    "\n",
    "# Ищем лучшую модель на тренировочных данных\n",
    "grid_search_cv_clf.fit(X_train, y_train)\n",
    "\n",
    "# Модель дерева с лучшими параметрами\n",
    "model_tree = grid_search_cv_clf.best_estimator_ \n",
    "\n",
    "# Смотрим параметры оптимального дерева\n",
    "grid_search_cv_clf.best_params_"
   ]
  },
  {
   "cell_type": "markdown",
   "id": "0e0a5dae",
   "metadata": {},
   "source": [
    "Рассчитаем среднюю точность валидации на тренировочных и тестовых данных."
   ]
  },
  {
   "cell_type": "code",
   "execution_count": 43,
   "id": "49d06aec",
   "metadata": {},
   "outputs": [
    {
     "data": {
      "text/plain": [
       "0.9256813125695217"
      ]
     },
     "execution_count": 43,
     "metadata": {},
     "output_type": "execute_result"
    }
   ],
   "source": [
    "cross_val_score(model_tree, X_train, y_train, cv=4).mean()                         "
   ]
  },
  {
   "cell_type": "code",
   "execution_count": 44,
   "id": "fb129bf1",
   "metadata": {},
   "outputs": [
    {
     "data": {
      "text/plain": [
       "0.9179644048943271"
      ]
     },
     "execution_count": 44,
     "metadata": {},
     "output_type": "execute_result"
    }
   ],
   "source": [
    "model_tree.score(X_test, y_test)                                                "
   ]
  },
  {
   "cell_type": "markdown",
   "id": "2fd0f41b",
   "metadata": {},
   "source": [
    "Построенная модель дерева решений model_tree верно классифицировала 93% объектов из тренировочных данных и 92% объектов из тестовых данных.\n",
    "Сделаем прогноз по тестовым данным и оценим его качество."
   ]
  },
  {
   "cell_type": "code",
   "execution_count": 45,
   "id": "4b02d4f4",
   "metadata": {},
   "outputs": [],
   "source": [
    "y_pred = model_tree.predict(X_test)"
   ]
  },
  {
   "cell_type": "code",
   "execution_count": 46,
   "id": "6100976b",
   "metadata": {},
   "outputs": [
    {
     "data": {
      "text/plain": [
       "0.6"
      ]
     },
     "execution_count": 46,
     "metadata": {},
     "output_type": "execute_result"
    }
   ],
   "source": [
    "precision_score(y_test, y_pred)                             "
   ]
  },
  {
   "cell_type": "markdown",
   "id": "cf12c6c3",
   "metadata": {},
   "source": [
    "Точность (true positives / (true positives + false positives)) модели равна 0.6. Таким образом, из всех объектов, которые модель отнесла к классу 'закончивших курс', только 60% действительно принадлежат к этому классу."
   ]
  },
  {
   "cell_type": "code",
   "execution_count": 47,
   "id": "05fd41ad",
   "metadata": {},
   "outputs": [
    {
     "data": {
      "text/plain": [
       "0.04013377926421405"
      ]
     },
     "execution_count": 47,
     "metadata": {},
     "output_type": "execute_result"
    }
   ],
   "source": [
    "recall_score(y_test, y_pred)                                "
   ]
  },
  {
   "cell_type": "markdown",
   "id": "352f0ee5",
   "metadata": {},
   "source": [
    "Полнота (true positives / (true positives + false negatives)) модели равна 0.04. Таким образом, модель обнаруживает только 4% объектов класса 1."
   ]
  },
  {
   "cell_type": "code",
   "execution_count": 48,
   "id": "f65f3853",
   "metadata": {},
   "outputs": [
    {
     "data": {
      "text/plain": [
       "0.07523510971786834"
      ]
     },
     "execution_count": 48,
     "metadata": {},
     "output_type": "execute_result"
    }
   ],
   "source": [
    "f1_score(y_test, y_pred)"
   ]
  },
  {
   "cell_type": "markdown",
   "id": "4721810c",
   "metadata": {},
   "source": [
    "Cреднее гармоническое между precision и recall, равно 0.075. Модель имеет низкое качество на данной задаче."
   ]
  },
  {
   "cell_type": "markdown",
   "id": "57504bda",
   "metadata": {},
   "source": [
    "Создадим итоговый фрейм с факторными переменными и вычисленными прогнозными значениями."
   ]
  },
  {
   "cell_type": "code",
   "execution_count": 49,
   "id": "16c7edd6",
   "metadata": {},
   "outputs": [],
   "source": [
    "predictions_tree = pd.DataFrame(data = y_pred, columns = ['prediction'])\n",
    "X_test_tree = X_test.assign(prediction = y_pred)"
   ]
  },
  {
   "cell_type": "markdown",
   "id": "d05d9d5a",
   "metadata": {},
   "source": [
    "#### 3.2 Логистическая регрессия"
   ]
  },
  {
   "cell_type": "code",
   "execution_count": 50,
   "id": "4df6691a",
   "metadata": {},
   "outputs": [],
   "source": [
    "from sklearn.linear_model import LogisticRegressionCV"
   ]
  },
  {
   "cell_type": "code",
   "execution_count": 51,
   "id": "d126430e",
   "metadata": {},
   "outputs": [],
   "source": [
    "clf1 = LogisticRegressionCV(cv=5)"
   ]
  },
  {
   "cell_type": "code",
   "execution_count": 52,
   "id": "783d806d",
   "metadata": {},
   "outputs": [
    {
     "data": {
      "text/html": [
       "<style>#sk-container-id-1 {color: black;}#sk-container-id-1 pre{padding: 0;}#sk-container-id-1 div.sk-toggleable {background-color: white;}#sk-container-id-1 label.sk-toggleable__label {cursor: pointer;display: block;width: 100%;margin-bottom: 0;padding: 0.3em;box-sizing: border-box;text-align: center;}#sk-container-id-1 label.sk-toggleable__label-arrow:before {content: \"▸\";float: left;margin-right: 0.25em;color: #696969;}#sk-container-id-1 label.sk-toggleable__label-arrow:hover:before {color: black;}#sk-container-id-1 div.sk-estimator:hover label.sk-toggleable__label-arrow:before {color: black;}#sk-container-id-1 div.sk-toggleable__content {max-height: 0;max-width: 0;overflow: hidden;text-align: left;background-color: #f0f8ff;}#sk-container-id-1 div.sk-toggleable__content pre {margin: 0.2em;color: black;border-radius: 0.25em;background-color: #f0f8ff;}#sk-container-id-1 input.sk-toggleable__control:checked~div.sk-toggleable__content {max-height: 200px;max-width: 100%;overflow: auto;}#sk-container-id-1 input.sk-toggleable__control:checked~label.sk-toggleable__label-arrow:before {content: \"▾\";}#sk-container-id-1 div.sk-estimator input.sk-toggleable__control:checked~label.sk-toggleable__label {background-color: #d4ebff;}#sk-container-id-1 div.sk-label input.sk-toggleable__control:checked~label.sk-toggleable__label {background-color: #d4ebff;}#sk-container-id-1 input.sk-hidden--visually {border: 0;clip: rect(1px 1px 1px 1px);clip: rect(1px, 1px, 1px, 1px);height: 1px;margin: -1px;overflow: hidden;padding: 0;position: absolute;width: 1px;}#sk-container-id-1 div.sk-estimator {font-family: monospace;background-color: #f0f8ff;border: 1px dotted black;border-radius: 0.25em;box-sizing: border-box;margin-bottom: 0.5em;}#sk-container-id-1 div.sk-estimator:hover {background-color: #d4ebff;}#sk-container-id-1 div.sk-parallel-item::after {content: \"\";width: 100%;border-bottom: 1px solid gray;flex-grow: 1;}#sk-container-id-1 div.sk-label:hover label.sk-toggleable__label {background-color: #d4ebff;}#sk-container-id-1 div.sk-serial::before {content: \"\";position: absolute;border-left: 1px solid gray;box-sizing: border-box;top: 0;bottom: 0;left: 50%;z-index: 0;}#sk-container-id-1 div.sk-serial {display: flex;flex-direction: column;align-items: center;background-color: white;padding-right: 0.2em;padding-left: 0.2em;position: relative;}#sk-container-id-1 div.sk-item {position: relative;z-index: 1;}#sk-container-id-1 div.sk-parallel {display: flex;align-items: stretch;justify-content: center;background-color: white;position: relative;}#sk-container-id-1 div.sk-item::before, #sk-container-id-1 div.sk-parallel-item::before {content: \"\";position: absolute;border-left: 1px solid gray;box-sizing: border-box;top: 0;bottom: 0;left: 50%;z-index: -1;}#sk-container-id-1 div.sk-parallel-item {display: flex;flex-direction: column;z-index: 1;position: relative;background-color: white;}#sk-container-id-1 div.sk-parallel-item:first-child::after {align-self: flex-end;width: 50%;}#sk-container-id-1 div.sk-parallel-item:last-child::after {align-self: flex-start;width: 50%;}#sk-container-id-1 div.sk-parallel-item:only-child::after {width: 0;}#sk-container-id-1 div.sk-dashed-wrapped {border: 1px dashed gray;margin: 0 0.4em 0.5em 0.4em;box-sizing: border-box;padding-bottom: 0.4em;background-color: white;}#sk-container-id-1 div.sk-label label {font-family: monospace;font-weight: bold;display: inline-block;line-height: 1.2em;}#sk-container-id-1 div.sk-label-container {text-align: center;}#sk-container-id-1 div.sk-container {/* jupyter's `normalize.less` sets `[hidden] { display: none; }` but bootstrap.min.css set `[hidden] { display: none !important; }` so we also need the `!important` here to be able to override the default hidden behavior on the sphinx rendered scikit-learn.org. See: https://github.com/scikit-learn/scikit-learn/issues/21755 */display: inline-block !important;position: relative;}#sk-container-id-1 div.sk-text-repr-fallback {display: none;}</style><div id=\"sk-container-id-1\" class=\"sk-top-container\"><div class=\"sk-text-repr-fallback\"><pre>LogisticRegressionCV(cv=5)</pre><b>In a Jupyter environment, please rerun this cell to show the HTML representation or trust the notebook. <br />On GitHub, the HTML representation is unable to render, please try loading this page with nbviewer.org.</b></div><div class=\"sk-container\" hidden><div class=\"sk-item\"><div class=\"sk-estimator sk-toggleable\"><input class=\"sk-toggleable__control sk-hidden--visually\" id=\"sk-estimator-id-1\" type=\"checkbox\" checked><label for=\"sk-estimator-id-1\" class=\"sk-toggleable__label sk-toggleable__label-arrow\">LogisticRegressionCV</label><div class=\"sk-toggleable__content\"><pre>LogisticRegressionCV(cv=5)</pre></div></div></div></div></div>"
      ],
      "text/plain": [
       "LogisticRegressionCV(cv=5)"
      ]
     },
     "execution_count": 52,
     "metadata": {},
     "output_type": "execute_result"
    }
   ],
   "source": [
    "clf1.fit(X_train, y_train)"
   ]
  },
  {
   "cell_type": "code",
   "execution_count": 53,
   "id": "9b5d1e20",
   "metadata": {},
   "outputs": [
    {
     "data": {
      "text/plain": [
       "0.9187986651835373"
      ]
     },
     "execution_count": 53,
     "metadata": {},
     "output_type": "execute_result"
    }
   ],
   "source": [
    "clf1.score(X_test, y_test)"
   ]
  },
  {
   "cell_type": "code",
   "execution_count": 54,
   "id": "454796c0",
   "metadata": {},
   "outputs": [
    {
     "data": {
      "text/plain": [
       "0.925194660734149"
      ]
     },
     "execution_count": 54,
     "metadata": {},
     "output_type": "execute_result"
    }
   ],
   "source": [
    "cross_val_score(clf1, X_train, y_train, cv=4).mean()"
   ]
  },
  {
   "cell_type": "code",
   "execution_count": 55,
   "id": "2c6cd373",
   "metadata": {},
   "outputs": [],
   "source": [
    "y_pred1 = clf1.predict(X_test)"
   ]
  },
  {
   "cell_type": "code",
   "execution_count": 56,
   "id": "ec087e4a",
   "metadata": {},
   "outputs": [
    {
     "data": {
      "text/plain": [
       "0.5466666666666666"
      ]
     },
     "execution_count": 56,
     "metadata": {},
     "output_type": "execute_result"
    }
   ],
   "source": [
    "precision_score(y_test, y_pred1)"
   ]
  },
  {
   "cell_type": "code",
   "execution_count": 57,
   "id": "d58aa403",
   "metadata": {},
   "outputs": [
    {
     "data": {
      "text/plain": [
       "0.13712374581939799"
      ]
     },
     "execution_count": 57,
     "metadata": {},
     "output_type": "execute_result"
    }
   ],
   "source": [
    "recall_score(y_test, y_pred1)"
   ]
  },
  {
   "cell_type": "code",
   "execution_count": 58,
   "id": "4536af94",
   "metadata": {},
   "outputs": [
    {
     "data": {
      "text/plain": [
       "0.2192513368983957"
      ]
     },
     "execution_count": 58,
     "metadata": {},
     "output_type": "execute_result"
    }
   ],
   "source": [
    "f1_score(y_test, y_pred1)"
   ]
  },
  {
   "cell_type": "markdown",
   "id": "e25fb1a1",
   "metadata": {},
   "source": [
    "#### 3.3 Алгоритм ближайшего соседа"
   ]
  },
  {
   "cell_type": "code",
   "execution_count": 59,
   "id": "8f384b60",
   "metadata": {},
   "outputs": [],
   "source": [
    "from sklearn.neighbors import KNeighborsClassifier"
   ]
  },
  {
   "cell_type": "code",
   "execution_count": 60,
   "id": "52121f59",
   "metadata": {},
   "outputs": [],
   "source": [
    "knn = KNeighborsClassifier()"
   ]
  },
  {
   "cell_type": "code",
   "execution_count": 61,
   "id": "3dac833b",
   "metadata": {},
   "outputs": [],
   "source": [
    "parameters = {'n_neighbors': range(15, 25), 'leaf_size': range(1, 7)}"
   ]
  },
  {
   "cell_type": "code",
   "execution_count": 62,
   "id": "2e0ea298",
   "metadata": {},
   "outputs": [],
   "source": [
    "grid_search_cv_knn = GridSearchCV(knn, parameters, cv=4, n_jobs=-1)"
   ]
  },
  {
   "cell_type": "code",
   "execution_count": null,
   "id": "152ae6de",
   "metadata": {},
   "outputs": [],
   "source": [
    "grid_search_cv_knn.fit(X_train, y_train)"
   ]
  },
  {
   "cell_type": "code",
   "execution_count": null,
   "id": "15a3178c",
   "metadata": {},
   "outputs": [],
   "source": [
    "model_knn = grid_search_cv_knn.best_estimator_"
   ]
  },
  {
   "cell_type": "code",
   "execution_count": null,
   "id": "3426dded",
   "metadata": {},
   "outputs": [],
   "source": [
    "cross_val_score(model_knn, X_train, y_train, cv=4).mean()"
   ]
  },
  {
   "cell_type": "code",
   "execution_count": null,
   "id": "863b4e03",
   "metadata": {},
   "outputs": [],
   "source": [
    "y_pred2 = model_knn.predict(X_test)"
   ]
  },
  {
   "cell_type": "code",
   "execution_count": null,
   "id": "5378885a",
   "metadata": {},
   "outputs": [],
   "source": [
    "precision_score(y_test, y_pred2)"
   ]
  },
  {
   "cell_type": "code",
   "execution_count": null,
   "id": "e142f83b",
   "metadata": {},
   "outputs": [],
   "source": [
    "recall_score(y_test, y_pred2)"
   ]
  },
  {
   "cell_type": "code",
   "execution_count": null,
   "id": "e75206c4",
   "metadata": {},
   "outputs": [],
   "source": [
    "f1_score(y_test, y_pred2)"
   ]
  },
  {
   "cell_type": "markdown",
   "id": "e26d449c",
   "metadata": {},
   "source": [
    "Таким образом, наилучшее качество имеет модель логистической регрессии с метрикой f1 = 0.22. Высокая точность всех моделей при крайне низкой полноте может быть связано с несбалансированностью классов в выборке. Проведем тюнинг прогнозов по этой модели и вычислим новые метрики."
   ]
  },
  {
   "cell_type": "markdown",
   "id": "22aac69f",
   "metadata": {},
   "source": [
    "#### 3.4 Тюнинг прогнозных значений по модели логистической регрессии\n"
   ]
  },
  {
   "cell_type": "markdown",
   "id": "892897eb",
   "metadata": {},
   "source": [
    "Получим массив с вероятностями отнесения наблюдения к классу 0 (False passed course). Перепишем прогнозные значения по модели логистической регрессии, принудительно назначая класс 0 наблюдению, если вероятность его отнесения к этому классу моделью больше заданного значения."
   ]
  },
  {
   "cell_type": "code",
   "execution_count": null,
   "id": "e9429fa8",
   "metadata": {},
   "outputs": [],
   "source": [
    "y_prob_log = clf1.predict_proba(X_test)  \n",
    "y_new_log = np.where(y_prob_log[:,0] > 0.85, 0, 1) "
   ]
  },
  {
   "cell_type": "code",
   "execution_count": null,
   "id": "ff9b0cdb",
   "metadata": {},
   "outputs": [],
   "source": [
    "precision_score(y_test, y_new_log)"
   ]
  },
  {
   "cell_type": "code",
   "execution_count": null,
   "id": "dc140042",
   "metadata": {},
   "outputs": [],
   "source": [
    "recall_score(y_test, y_new_log)"
   ]
  },
  {
   "cell_type": "code",
   "execution_count": null,
   "id": "56b52b11",
   "metadata": {},
   "outputs": [],
   "source": [
    "f1_score(y_test, y_new_log)"
   ]
  },
  {
   "cell_type": "markdown",
   "id": "9279efd4",
   "metadata": {},
   "source": [
    "Определим вклад каждого фактора в прогноз."
   ]
  },
  {
   "cell_type": "code",
   "execution_count": null,
   "id": "1fa2ba3a",
   "metadata": {},
   "outputs": [],
   "source": [
    "model_tree.feature_importances_\n",
    "model_tree_feature_importances = pd.DataFrame({'feature': X.columns, 'impotance': model_tree.feature_importances_ })\n",
    "model_tree_feature_importances.plot(kind='barh', x ='feature')"
   ]
  },
  {
   "cell_type": "markdown",
   "id": "8610ffd2",
   "metadata": {},
   "source": [
    "В заключении можно сказать, что по данным о поведении студента в течение первых трех дней модель логистической регрессии может предсказать закончит ли студент курс с точностью 42%. Наибольшее значение для целевого показателя имеет фактор количества правильных ответов студента. "
   ]
  },
  {
   "cell_type": "code",
   "execution_count": null,
   "id": "36a58714",
   "metadata": {},
   "outputs": [],
   "source": []
  }
 ],
 "metadata": {
  "kernelspec": {
   "display_name": "Python 3 (ipykernel)",
   "language": "python",
   "name": "python3"
  },
  "language_info": {
   "codemirror_mode": {
    "name": "ipython",
    "version": 3
   },
   "file_extension": ".py",
   "mimetype": "text/x-python",
   "name": "python",
   "nbconvert_exporter": "python",
   "pygments_lexer": "ipython3",
   "version": "3.10.0"
  }
 },
 "nbformat": 4,
 "nbformat_minor": 5
}
